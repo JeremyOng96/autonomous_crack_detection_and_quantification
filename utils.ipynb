{
 "cells": [
  {
   "cell_type": "code",
   "execution_count": 1,
   "metadata": {},
   "outputs": [],
   "source": [
    "import numpy as np\n",
    "from scipy import ndimage\n",
    "import matplotlib.pyplot as plt\n",
    "import cv2\n",
    "import fractions\n",
    "import math\n",
    "from matplotlib import image\n",
    "import random\n",
    "from skimage import morphology,feature\n",
    "#from tensorflow.keras.preprocessing.image import ImageDataGenerator"
   ]
  },
  {
   "cell_type": "code",
   "execution_count": 2,
   "metadata": {},
   "outputs": [
    {
     "data": {
      "text/plain": [
       "<matplotlib.image.AxesImage at 0x1f535bb1508>"
      ]
     },
     "execution_count": 2,
     "metadata": {},
     "output_type": "execute_result"
    },
    {
     "data": {
      "image/png": "[encoded data removed]",
      "text/plain": [
       "<Figure size 432x288 with 1 Axes>"
      ]
     },
     "metadata": {
      "needs_background": "light"
     },
     "output_type": "display_data"
    }
   ],
   "source": [
    "directory =\"C:\\\\Users\\\\limeh\\\\Downloads\\\\DiscreteSkeletonEvolution\\\\DSE\\\\crack_test.png\"\n",
    "img = image.imread(directory)\n",
    "#img = morphology.medial_axis(img)\n",
    "plt.figure()\n",
    "plt.imshow(img)"
   ]
  },
  {
   "cell_type": "markdown",
   "metadata": {},
   "source": [
    "# Import images from Crack500 dataset\n"
   ]
  },
  {
   "cell_type": "code",
   "execution_count": 3,
   "metadata": {},
   "outputs": [],
   "source": [
    "# Specify text file directory\n",
    "def generator_data(directory_text,directory_image,num_data,dims,interpolation):\n",
    "    \"\"\"\n",
    "    This function returns the file name of the input label and corresponding ground truth\n",
    "    Arguments:\n",
    "    directory - Provide the directory to read a file\n",
    "    \"\"\"\n",
    "    input_data = None\n",
    "    ground_truth = None\n",
    "    with open(directory_text,\"r\") as f:\n",
    "        data = f.readlines()\n",
    "    \n",
    "    random.shuffle(data)\n",
    "    data_list = []\n",
    "    i = 0\n",
    "    while True:\n",
    "        try:\n",
    "            input_data = data[i].split()[0]\n",
    "            ground_truth = data[i].split()[1]\n",
    "            data_list.append([input_data,ground_truth])\n",
    "            i = i + 1\n",
    "            if i == num_data:\n",
    "                data_array = image_data(directory_image,data_list,dims,interpolation)\n",
    "                yield data_array\n",
    "                data_list = []\n",
    "        except IndexError as e:\n",
    "            data_array = image_data(directory_image,data_list,dims,interpolation)\n",
    "            yield data_array\n",
    "            break\n"
   ]
  },
  {
   "cell_type": "code",
   "execution_count": 4,
   "metadata": {},
   "outputs": [],
   "source": [
    "def image_data(directory,data_list,dims,interpolation):\n",
    "    \"\"\"\n",
    "    This function obtains data_list from get_train_data_names and then \n",
    "    converts the image into a square image.\n",
    "    \n",
    "    Arguments:\n",
    "    data_list - list of data names and corresponding ground truth\n",
    "    dims - Resize image to user input size, required to be a tuple\n",
    "    \n",
    "    Return:\n",
    "    data_array - Returns the image as a numpy array\n",
    "    \"\"\"\n",
    "    \n",
    "    data_array = []\n",
    "    for i in range(len(data_list)):\n",
    "        x = cv2.imread(directory + data_list[i][0],cv2.IMREAD_GRAYSCALE)\n",
    "        y = cv2.imread(directory + data_list[i][1],cv2.IMREAD_UNCHANGED)\n",
    "        \n",
    "        x = cv2.resize(x,dims,interpolation = interpolation)/255\n",
    "        y = cv2.resize(y,dims,interpolation = interpolation)/255\n",
    "        \n",
    "        data_array.append([x,y])\n",
    "        \n",
    "    return data_array"
   ]
  },
  {
   "cell_type": "code",
   "execution_count": 5,
   "metadata": {},
   "outputs": [],
   "source": [
    "def get_data(gen):\n",
    "    #try:\n",
    "    data = next(gen)\n",
    "    for i in range(len(data)):\n",
    "        data[i][0] = np.pad(data[i][0],((1,1),(1,1)),\"constant\")\n",
    "        data[i][1] = np.pad(data[i][1],((1,1),(1,1)),\"constant\")\n",
    "    return data\n",
    "    #except:\n",
    "    #    return -1\n"
   ]
  },
  {
   "cell_type": "code",
   "execution_count": 6,
   "metadata": {},
   "outputs": [],
   "source": [
    "directory_text = \"./Data/CRACK500/train.txt\"\n",
    "directory_image = \"./Data/CRACK500/traincrop/\"\n",
    "x_train = generator_data(directory_text,directory_image,20,(160,90),interpolation = cv2.INTER_CUBIC)\n",
    "\n",
    "directory_text = \"./Data/CRACK500/val.txt\"\n",
    "directory_image = \"./Data/CRACK500/valcrop/\"\n",
    "x_test = generator_data(directory_text,directory_image,10,(64,64),interpolation = cv2.INTER_CUBIC)\n",
    "x_train_data = get_data(x_train)\n",
    "x_test_data = get_data(x_test)"
   ]
  },
  {
   "cell_type": "code",
   "execution_count": 7,
   "metadata": {},
   "outputs": [
    {
     "name": "stdout",
     "output_type": "stream",
     "text": [
      "(92, 162)\n"
     ]
    }
   ],
   "source": [
    "print(x_train_data[1][0].shape)"
   ]
  },
  {
   "cell_type": "code",
   "execution_count": 8,
   "metadata": {},
   "outputs": [
    {
     "name": "stdout",
     "output_type": "stream",
     "text": [
      "(92, 162)\n"
     ]
    }
   ],
   "source": [
    "print(x_train_data[1][1].shape)"
   ]
  },
  {
   "cell_type": "markdown",
   "metadata": {},
   "source": [
    "# Skeletonize binary images"
   ]
  },
  {
   "cell_type": "code",
   "execution_count": 9,
   "metadata": {},
   "outputs": [
    {
     "data": {
      "text/plain": [
       "<matplotlib.image.AxesImage at 0x1f536d0fe48>"
      ]
     },
     "execution_count": 9,
     "metadata": {},
     "output_type": "execute_result"
    },
    {
     "data": {
      "image/png": "[encoded data removed]",
      "text/plain": [
       "<Figure size 1080x1080 with 4 Axes>"
      ]
     },
     "metadata": {
      "needs_background": "light"
     },
     "output_type": "display_data"
    }
   ],
   "source": [
    "index = 5\n",
    "fig, ax = plt.subplots(nrows = 1, ncols = 4,figsize = (15,15))\n",
    "\n",
    "img_bnr = x_train_data[index][1]\n",
    "#img_bnr = morphology.binary_opening(x_train_data[index][1])\n",
    "#img_bnr = morphology.binary_closing(img_bnr)\n",
    "\n",
    "edge = feature.canny(img_bnr)\n",
    "skl_image = morphology.medial_axis(img_bnr)\n",
    "skl_image2 = morphology.skeletonize(img_bnr)\n",
    "\n",
    "ax[0].imshow(x_train_data[index][0])\n",
    "ax[1].imshow(x_train_data[index][1])\n",
    "ax[2].imshow(edge)\n",
    "ax[3].imshow(skl_image2)"
   ]
  },
  {
   "cell_type": "markdown",
   "metadata": {},
   "source": [
    "# Tangent of curve"
   ]
  },
  {
   "cell_type": "code",
   "execution_count": 10,
   "metadata": {},
   "outputs": [],
   "source": [
    "def get_skel_points(img,cropped = True):\n",
    "    \"\"\"\n",
    "    This function obtains positive cracks from the given image.\n",
    "\n",
    "    Arguments:\n",
    "    img - The input image\n",
    "    \n",
    "    Return:\n",
    "    x - x coordinates\n",
    "    y - y coordinates\n",
    "    \n",
    "    \"\"\"\n",
    "    \n",
    "    (y,x) = np.nonzero(img) # Returns a tuple of array ([y],[x])\n",
    "    \n",
    "    # True only if coordinate shifting, False if using global coordinates\n",
    "    if cropped:\n",
    "        # Coordinate shifting to have center at (0,0) and flip the y-axis\n",
    "        y = -1*(y - 1) # Flips the y axis\n",
    "        x = x - 1        \n",
    "    \n",
    "    return x,y"
   ]
  },
  {
   "cell_type": "code",
   "execution_count": 11,
   "metadata": {},
   "outputs": [],
   "source": [
    "def get_dydx(cropped_img,linspace = 51):\n",
    "    \"\"\"\n",
    "    This function gets a 3x3 cropped image to and approximates the \n",
    "    crack points as a polynomial. The x and y values are placed on\n",
    "    a grid as shown:\n",
    "    \n",
    "    [[(-1,1),(0,1),(1,1)],\n",
    "    [(-1,0),(0,0),(1,0)],\n",
    "    [(-1,-1),(0,-1),(1,-1)]]\n",
    "    \n",
    "    The point of interest is only at the gradient at point (0,0)\n",
    "    \n",
    "    Arguments:\n",
    "    x - x coordinates\n",
    "    y - y coordinates\n",
    "    space = space for linspace\n",
    "    \"\"\"\n",
    "    \n",
    "    # Check if there is only 1 pixel in crack, then return early\n",
    "    \n",
    "    if np.sum(np.squeeze(cropped_img.flatten())) == 1:\n",
    "        plt.figure()\n",
    "        plt.imshow(cropped_img,extent = [-3/2.,3/2., -3/2.,3/2.])\n",
    "        return 0, False\n",
    "    # Obtain the x and y value of cropped image\n",
    "    x,y = get_skel_points(cropped_img)\n",
    "    #print(x,y)\n",
    "    num_points = len(x)\n",
    "    vert = False   \n",
    "    # Checks if all values of y\n",
    "    x_check = [-1,0,1]\n",
    "    \n",
    "    # Check for possible vertical \n",
    "    for x_val in x_check:\n",
    "        occurences = np.count_nonzero(x == x_val)\n",
    "        if occurences >= 2 and num_points <= 3 :\n",
    "            #print(occurences)\n",
    "            vert = True\n",
    "            break          \n",
    "    \n",
    "    p_deg = (num_points - 1) if num_points > 1 else 1\n",
    "    linspace = (linspace + 1) if linspace % 2 == 0 else linspace\n",
    "    x_new = np.linspace(-1,1,num = linspace)\n",
    "    \n",
    "    \n",
    "    #print(x_new)\n",
    "    if vert == False:\n",
    "        plt.figure()\n",
    "        plt.imshow(cropped_img,extent = [-3/2.,3/2., -3/2.,3/2.])\n",
    "        weights = np.polyfit(x,y,p_deg)\n",
    "        fx = np.poly1d(weights)\n",
    "    else:\n",
    "        plt.figure()\n",
    "        plt.imshow(cropped_img,extent = [-3/2.,3/2., -3/2.,3/2.])\n",
    "        cropped_img = np.rot90(cropped_img) # Rotate the image anticlockwise 90 degrees\n",
    "        x,y = get_skel_points(cropped_img) # Update the x,y coordinates\n",
    "        weights = np.polyfit(x,y,p_deg)\n",
    "        fx = np.poly1d(weights)        \n",
    "    \n",
    "    y_new = fx(x_new)\n",
    "    x0_pos = np.where(x_new == 0)\n",
    "    #print(y_new)\n",
    "    dy = np.gradient(y_new,2/(linspace-1))\n",
    "    #print(dy)\n",
    "    #print(x0_pos)\n",
    "    dy0 = str(dy[x0_pos])[1:-1] # dy when x = 0 stored in string format\n",
    "    \n",
    "    dy = fractions.Fraction(dy0).limit_denominator()\n",
    "    \n",
    "    plt.figure()\n",
    "    plt.imshow(cropped_img,extent = [-3/2.,3/2., -3/2.,3/2.])\n",
    "    plt.plot(x,y,\"bo\")\n",
    "    plt.plot(x_new,fx(x_new))\n",
    "    plt.show()\n",
    "    return dy,vert"
   ]
  },
  {
   "cell_type": "code",
   "execution_count": 12,
   "metadata": {},
   "outputs": [],
   "source": [
    "def get_cropped(img,x,y):\n",
    "    \"\"\"\n",
    "    This function returns 3x3 cropped images at every \n",
    "    skeleton point\n",
    "    \n",
    "    Arguments:\n",
    "    img - the skeleton image\n",
    "    x - x global coordinate of the skeleton\n",
    "    y - y global coordinate of the skeleton\n",
    "    \"\"\"\n",
    "     \n",
    "    (row,column) = np.meshgrid(np.array([x-1,x,x+1]), np.array([y-1,y,y+1]))\n",
    "    row = row.astype('int')\n",
    "    column= column.astype('int')\n",
    "    \n",
    "    cropped_img = img[column,row]\n",
    "    \n",
    "    return cropped_img"
   ]
  },
  {
   "cell_type": "markdown",
   "metadata": {},
   "source": [
    "# Get end points and intersection points"
   ]
  },
  {
   "cell_type": "code",
   "execution_count": 13,
   "metadata": {},
   "outputs": [],
   "source": [
    "def get_imp_points(img):\n",
    "\n",
    "    end_points = []\n",
    "    inter_points = []\n",
    "    #img = np.pad(img,((1,1),(1,1)),\"constant\")\n",
    "    (rows,cols) = np.nonzero(img)\n",
    "    \n",
    "    for (r,c) in zip(rows,cols):\n",
    "\n",
    "        if np.sum(img[r-1:r+2,c-1:c+2]) == 2:\n",
    "#             plt.figure()\n",
    "#             plt.imshow(img[row_n,col_n])\n",
    "            end_points.append((c,r))\n",
    "        elif np.sum(img[r-1:r+2,c-1:c+2]) > 3:\n",
    "            inter_points.append((c,r))\n",
    "     \n",
    "    #     for point1 in t_inter_points:\n",
    "    #         temp_x = [point1[0]]\n",
    "    #         temp_y = [point1[1]]\n",
    "    #         for point2 in t_inter_points:\n",
    "    #             if ((point1[0]-point2[0])**2 + (point1[1]-point2[1])**2 < 9**2) and (point1 != point2):\n",
    "    #                 temp_x.append(point2[0])\n",
    "    #                 temp_y.append(point2[1])\n",
    "\n",
    "    #         x_avg = int(math.floor(sum(temp_x)/len(temp_x)))\n",
    "    #         y_avg = int(math.floor(sum(temp_y)/len(temp_y)))\n",
    "\n",
    "    #         inter_points.append((x_avg,y_avg))  \n",
    "\n",
    "    #     #all_branch = get_branches(img)\n",
    "    #     end_points = list(set(end_points))\n",
    "    #     inter_points = list(set(inter_points))\n",
    "    #     #num_branch = get_num_branch(all_branch,inter_points)\n",
    "    \n",
    "    return end_points, inter_points"
   ]
  },
  {
   "cell_type": "code",
   "execution_count": 222,
   "metadata": {},
   "outputs": [],
   "source": [
    "def get_branches(img):\n",
    "    \"\"\"\n",
    "    This algorithm gets the branches of the skeleton image from end points to\n",
    "    intersection point. The determined branches are used for DSE pruning method.\n",
    "    \n",
    "    Branches from one intersection point to another intersection point is not considered\n",
    "    because it is definitely important to the reconstruction of the binary image.\n",
    "    \n",
    "    i.e. Only end point to intersection point is considered. \n",
    "    \n",
    "    Arguments:\n",
    "    img - Skeletonized image\n",
    "    \n",
    "    Return\n",
    "    all_branches - A list of lists of coordinates (x,y) of the branches\n",
    "    \"\"\"\n",
    "   \n",
    "    E,_ = get_imp_points(img)  \n",
    "    all_branches = []\n",
    "    print(f\"The end points: {E}\")\n",
    "    for e in E:\n",
    "        branch = []\n",
    "        r_g, c_g = e[1], e[0]\n",
    "        branch.append((c_g,r_g))\n",
    "\n",
    "        while np.sum(img[r_g-1:r_g+2,c_g-1:c_g+2]) <= 3:\n",
    "            (r_t,c_t) = np.nonzero(img[r_g-1:r_g+2,c_g-1:c_g+2])\n",
    "            r_t = r_t-1+r_g\n",
    "            c_t = c_t-1+c_g\n",
    "            for point in zip(c_t,r_t):\n",
    "                if point not in branch:\n",
    "                    branch.append(point)\n",
    "\n",
    "            r_g = branch[-1][1]\n",
    "            c_g = branch[-1][0]\n",
    "            if (c_g,r_g) in E:\n",
    "                branch.append((c_g,r_g))\n",
    "                break\n",
    "        all_branches.append(branch)  \n",
    "        \n",
    "    return all_branches      "
   ]
  },
  {
   "cell_type": "code",
   "execution_count": 223,
   "metadata": {},
   "outputs": [
    {
     "name": "stdout",
     "output_type": "stream",
     "text": [
      "[[ True  True]\n",
      " [ True  True]\n",
      " [False False]]\n"
     ]
    }
   ],
   "source": [
    "t = np.array([(1,2),(2,2),(3,2)])\n",
    "t2 = np.array([(1,2),(2,2),(4,4)])\n",
    "print(t == t2)"
   ]
  },
  {
   "cell_type": "code",
   "execution_count": 224,
   "metadata": {},
   "outputs": [],
   "source": [
    "def get_num_branch(all_branches,inter_points):\n",
    "    \n",
    "    list_num_branch = []\n",
    "    for point in inter_points:\n",
    "        num_branch = 0\n",
    "        for branch in all_branches:\n",
    "            if point in branch:\n",
    "                all_branches.remove(branch)\n",
    "                num_branch += 1\n",
    "        list_num_branch.append(num_branch)\n",
    "        \n",
    "    return list_num_branch\n",
    "                "
   ]
  },
  {
   "cell_type": "markdown",
   "metadata": {},
   "source": [
    "# Discrete Skeletonization Evolution Algorithm"
   ]
  },
  {
   "cell_type": "code",
   "execution_count": 225,
   "metadata": {},
   "outputs": [],
   "source": [
    "def reconstruct(skel_img,dist_tr):\n",
    "    \"\"\"\n",
    "    Attempt to reconstruct the binary image from the skeleton\n",
    "    \n",
    "    Arguments:\n",
    "    img - Skeleton image using thinning algorithm\n",
    "    dist_tr - Distance transform matrix\n",
    "    \n",
    "    Return:\n",
    "    bn_img - Binary image\n",
    "    \"\"\"\n",
    "    row, col = np.nonzero(skel_img)\n",
    "    bn_img = skel_img.copy()*1\n",
    "    for (r,c) in zip(row,col):\n",
    "        radius = math.ceil(dist_tr[r,c]-1)\n",
    "        if radius >= 1:\n",
    "            stel = morphology.disk(radius)\n",
    "            bn_img[r-radius:r+radius+1,c-radius:c+radius+1] += stel\n",
    "    \n",
    "    return bn_img >= 1"
   ]
  },
  {
   "cell_type": "code",
   "execution_count": 226,
   "metadata": {},
   "outputs": [],
   "source": [
    "\n",
    "def DSE_v1(img,threshold):\n",
    "    \"\"\"\n",
    "    Discrete Skeletonization Evolution algorithm\n",
    "    Prunes spurious branches obtained from medial axis transform.\n",
    "    \n",
    "    Arguments:\n",
    "    img - Binary image\n",
    "    \n",
    "    Returns:\n",
    "    pruned_img - Pruned binary image using DSE\n",
    "    \"\"\"\n",
    "\n",
    "    _,dist = morphology.medial_axis(img,return_distance = True) \n",
    "    skel_img = morphology.thin(img)\n",
    "    skel_img = morphology.closing(skel_img)\n",
    "    ori_img = img.copy()\n",
    "    all_branches = get_branches(skel_img)\n",
    "    iou = lambda ori_img,img2: np.sum(ori_img*img2)/np.sum((ori_img+img2)>=1)\n",
    "\n",
    "    iou_scores = []\n",
    "    for branch in all_branches:\n",
    "        skel_removed = skel_img.copy() # Initialization\n",
    "        r = [i[1] for i in branch]\n",
    "        c = [i[0] for i in branch]\n",
    "        skel_removed[r,c] = 0\n",
    "\n",
    "        bn_removed = reconstruct(skel_removed,dist) # Reconstruct the binary image without the branch \n",
    "        iou_scores.append(iou(ori_img,bn_removed))\n",
    "        \n",
    "    for score in reversed(sorted(iou_scores)):\n",
    "        idx = iou_scores.index(score)\n",
    "        \n",
    "        if score > threshold:\n",
    "            for points in all_branches[idx]:\n",
    "                r,c = points[1], points[0]\n",
    "                skel_img[r,c] = 0\n",
    "        else:\n",
    "            return skel_img, reconstruct(skel_img,dist)\n",
    "        \n",
    "    return morphology.closing(skel_img), reconstruct(skel_img,dist)"
   ]
  },
  {
   "cell_type": "code",
   "execution_count": 227,
   "metadata": {},
   "outputs": [],
   "source": [
    "def DSE_v2(img,threshold):\n",
    "    \"\"\"\n",
    "    Discrete Skeletonization Evolution algorithm\n",
    "    Prunes spurious branches obtained from medial axis transform.\n",
    "    \n",
    "    Arguments:\n",
    "    img - Binary image\n",
    "    \n",
    "    Returns:\n",
    "    pruned_img - Pruned binary image using DSE\n",
    "    \"\"\"\n",
    "\n",
    "    _,dist = morphology.medial_axis(img,return_distance = True) \n",
    "    skel_img = morphology.thin(img)\n",
    "    skel_img = morphology.closing(skel_img)\n",
    "    all_branches = get_branches(skel_img)\n",
    "    iou = lambda ori_img,img2: np.sum(ori_img*img2)/np.sum((ori_img+img2)>=1)\n",
    "\n",
    "    while True:\n",
    "        \n",
    "        iou_scores = []\n",
    "        \n",
    "        for branch in all_branches:\n",
    "            skel_removed = skel_img.copy() # Initialization\n",
    "            r = [i[1] for i in branch]\n",
    "            c = [i[0] for i in branch]\n",
    "            skel_removed[r,c] = 0\n",
    "            bn_removed = reconstruct(skel_removed,dist)\n",
    "            iou_scores.append(iou(img,bn_removed))\n",
    "            \n",
    "        if len(iou_scores)>0:\n",
    "            max_score = max(iou_scores)\n",
    "            if max_score > threshold:\n",
    "                idx = iou_scores.index(max_score)\n",
    "\n",
    "                for points in all_branches[idx]:\n",
    "                    r,c = points[1], points[0]\n",
    "                    skel_img[r,c] = 0\n",
    "                del all_branches[idx]\n",
    "\n",
    "            else:\n",
    "                return skel_img, reconstruct(skel_img,dist)\n",
    "        else:\n",
    "            return skel_img, reconstruct(skel_img,dist)\n",
    "\n",
    "  \n",
    "\n"
   ]
  },
  {
   "cell_type": "code",
   "execution_count": 228,
   "metadata": {},
   "outputs": [
    {
     "name": "stdout",
     "output_type": "stream",
     "text": [
      "[[0 2 3]\n",
      " [4 0 6]\n",
      " [7 8 0]]\n"
     ]
    }
   ],
   "source": [
    "test1 = np.array([[1,2,3],[4,5,6],[7,8,9]])\n",
    "test1[[0,1,2],[0,1,2]] = 0\n",
    "print(test1)"
   ]
  },
  {
   "cell_type": "code",
   "execution_count": 229,
   "metadata": {},
   "outputs": [],
   "source": [
    "def DSE_v3(img,beta):\n",
    "    \"\"\"\n",
    "    Discrete Skeletonization Evolution algorithm which finds the trade \n",
    "    off between skeleton simplicity and reconstruction error.\n",
    "    \n",
    "    Arguments:\n",
    "    img - Binary image\n",
    "    \n",
    "    Returns:\n",
    "    pruned_img - Pruned binary image using DSE\n",
    "    \"\"\"    \n",
    "    \n",
    "    M,dist = morphology.medial_axis(img,return_distance = True)\n",
    "    #M = morphology.skeletonize(img)\n",
    "    S_all = [M]\n",
    "    norm_dist = lambda s: np.log(np.sum(s)+1)\n",
    "    norm_area = lambda s,d: (np.sum(d)-np.sum(reconstruct(s,dist)))/np.sum(d)\n",
    "    \n",
    "    all_branches = get_branches(M)\n",
    "    print(f\"Number of branches: {len(all_branches)}\")\n",
    "    avg_len = np.mean([len(branch) for branch in all_branches])\n",
    "    M_len = norm_dist(M)\n",
    "    alpha = beta * np.log(M_len/avg_len)\n",
    "    scores = [alpha*norm_area(M,reconstruct(M,dist))+norm_dist(M)]\n",
    "    \n",
    "    while len(all_branches) > 2:\n",
    "        weights = []\n",
    "        for branch in all_branches:\n",
    "            S = M.copy()                  # S_(i) \n",
    "            r = [i[1] for i in branch]\n",
    "            c = [i[0] for i in branch]\n",
    "\n",
    "            S[r,c] = 0                    # Initialize the weights\n",
    "            AR = norm_area(img,reconstruct(S,dist))\n",
    "            LR = norm_dist(S)\n",
    "            weights.append(alpha * AR + LR)\n",
    "\n",
    "        min_idx = np.argmin(weights)\n",
    "        E = all_branches[min_idx]         # The minimum branch to be removed \n",
    "        r = [i[1] for i in E]             # Get the rows of minimum weight branch\n",
    "        c = [i[0] for i in E]             # Get the columns of minimum weight branch\n",
    "#         print(f\"Before: {np.sum(M)}\")\n",
    "        M[r,c] = 0                        # Remove the minimum branch from the medial axis, S_(i+1)\n",
    "#         print(f\"After: {np.sum(M)}\")\n",
    "        AR = norm_area(img,reconstruct(M,dist))\n",
    "        LR = norm_dist(M)\n",
    "\n",
    "        S_all.append(M)\n",
    "        scores.append(alpha * AR + LR)\n",
    "        del all_branches[min_idx]    \n",
    "        \n",
    "    for S in S_all:\n",
    "        AR = norm_area(img,reconstruct(S,dist))\n",
    "        LR = norm_dist(S)\n",
    "        scores.append(alpha*AR + LR)\n",
    "        \n",
    "#     print(f\"Scores: {scores}\")\n",
    "#     print(f\"Minimum index: {np.argmin(scores)}\")\n",
    "    S_best = S_all[np.argmin(scores)]\n",
    "    return S_best, reconstruct(S_best,dist)\n",
    "\n",
    "                "
   ]
  },
  {
   "cell_type": "code",
   "execution_count": 230,
   "metadata": {},
   "outputs": [
    {
     "name": "stdout",
     "output_type": "stream",
     "text": [
      "[[1, 2, 3], [4, 5, 6]]\n",
      "[[4, 5, 6]]\n"
     ]
    }
   ],
   "source": [
    "t = [[1,2,3],[4,5,6]]\n",
    "print(t)\n",
    "del t[0]\n",
    "print(t)"
   ]
  },
  {
   "cell_type": "code",
   "execution_count": 236,
   "metadata": {
    "scrolled": false
   },
   "outputs": [
    {
     "name": "stdout",
     "output_type": "stream",
     "text": [
      "The end points: [(80, 81), (122, 81), (82, 82), (160, 83), (73, 84), (149, 84), (36, 85), (39, 85), (64, 88), (1, 89), (2, 89), (8, 90), (14, 90), (33, 90), (54, 90)]\n",
      "[[(80, 81), (79, 82), (78, 83), (77, 84), (76, 85), (75, 85), (74, 86), (73, 85)], [(122, 81), (123, 82)], [(82, 82), (83, 82), (84, 82), (85, 82), (86, 83), (87, 84), (88, 83), (89, 84), (90, 83), (91, 82), (92, 83), (92, 84), (93, 85), (94, 85), (95, 85), (96, 84), (97, 83), (98, 84), (99, 83), (100, 84), (101, 84), (102, 84), (103, 84), (104, 84), (105, 84), (106, 84), (107, 85), (108, 84), (109, 84), (110, 85), (111, 85), (112, 84), (113, 85), (114, 85), (115, 84), (116, 85), (117, 85), (118, 85), (119, 84), (120, 84), (121, 84), (122, 84), (123, 83), (123, 82)], [(160, 83), (159, 82), (158, 81), (157, 81), (156, 82), (155, 82), (154, 82), (153, 83), (152, 82), (151, 82), (150, 82), (149, 83)], [(73, 84), (73, 85)], [(149, 84), (149, 83)], [(36, 85), (37, 85), (38, 86)], [(39, 85), (38, 86)], [(64, 88), (65, 88), (66, 88), (67, 87), (68, 88), (69, 87), (70, 86), (71, 86), (72, 86), (73, 85)], [(1, 89), (2, 89), (2, 89)], [(2, 89), (1, 89), (1, 89)], [(8, 90), (9, 90), (10, 90), (11, 90), (12, 90), (13, 90), (14, 90), (14, 90)], [(14, 90), (13, 90), (12, 90), (11, 90), (10, 90), (9, 90), (8, 90), (8, 90)], [(33, 90), (34, 90), (35, 89), (36, 89), (37, 90), (38, 89), (39, 88)], [(54, 90), (53, 89), (52, 90), (51, 89), (50, 89), (49, 89), (48, 89), (47, 89), (46, 89), (45, 90), (44, 89), (43, 90), (42, 89), (41, 90), (40, 89), (39, 88)]]\n",
      "Number of branches: 15\n",
      "The end points: [(80, 81), (82, 81), (160, 83), (36, 85), (64, 88), (2, 89), (1, 90)]\n",
      "[[(80, 81), (79, 82), (78, 83), (77, 84), (76, 84), (75, 85), (74, 85), (73, 85), (72, 86), (71, 86), (70, 86), (69, 87), (68, 87), (67, 88), (66, 88), (65, 88), (64, 88), (64, 88)], [(82, 81), (83, 82), (84, 83), (85, 83), (86, 83), (87, 84), (88, 84), (89, 84), (90, 83), (91, 83), (92, 84), (93, 85), (94, 85), (95, 85), (96, 84), (97, 84), (98, 84), (99, 84), (100, 84), (101, 84), (102, 84), (103, 84), (104, 84), (105, 84), (106, 84), (107, 85), (108, 85), (109, 85), (110, 85), (111, 85), (112, 85), (113, 85), (114, 85), (115, 85), (116, 85), (117, 85), (118, 85), (119, 85), (120, 84), (121, 84), (122, 83), (123, 82), (124, 81), (125, 81), (126, 81), (127, 81), (128, 80), (129, 80), (130, 80), (131, 80), (132, 80), (133, 81), (134, 81), (135, 81), (136, 80), (137, 80), (138, 80), (139, 80), (140, 80), (141, 81), (142, 82), (143, 82), (144, 82), (145, 83), (146, 83), (147, 83), (148, 83), (149, 83), (150, 83), (151, 83), (152, 83), (153, 82), (154, 82), (155, 82), (156, 82), (157, 82), (158, 82), (159, 83), (160, 83), (160, 83)], [(160, 83), (159, 83), (158, 82), (157, 82), (156, 82), (155, 82), (154, 82), (153, 82), (152, 83), (151, 83), (150, 83), (149, 83), (148, 83), (147, 83), (146, 83), (145, 83), (144, 82), (143, 82), (142, 82), (141, 81), (140, 80), (139, 80), (138, 80), (137, 80), (136, 80), (135, 81), (134, 81), (133, 81), (132, 80), (131, 80), (130, 80), (129, 80), (128, 80), (127, 81), (126, 81), (125, 81), (124, 81), (123, 82), (122, 83), (121, 84), (120, 84), (119, 85), (118, 85), (117, 85), (116, 85), (115, 85), (114, 85), (113, 85), (112, 85), (111, 85), (110, 85), (109, 85), (108, 85), (107, 85), (106, 84), (105, 84), (104, 84), (103, 84), (102, 84), (101, 84), (100, 84), (99, 84), (98, 84), (97, 84), (96, 84), (95, 85), (94, 85), (93, 85), (92, 84), (91, 83), (90, 83), (89, 84), (88, 84), (87, 84), (86, 83), (85, 83), (84, 83), (83, 82), (82, 81), (82, 81)], [(36, 85), (37, 86), (38, 87), (39, 88)], [(64, 88), (65, 88), (66, 88), (67, 88), (68, 87), (69, 87), (70, 86), (71, 86), (72, 86), (73, 85), (74, 85), (75, 85), (76, 84), (77, 84), (78, 83), (79, 82), (80, 81), (80, 81)], [(2, 89), (1, 90), (1, 90)], [(1, 90), (2, 89), (2, 89)]]\n",
      "Wall time: 422 ms\n"
     ]
    },
    {
     "data": {
      "text/plain": [
       "Text(0.5, 1.0, 'Skeleton')"
      ]
     },
     "execution_count": 236,
     "metadata": {},
     "output_type": "execute_result"
    },
    {
     "data": {
      "image/png": "[encoded data removed]",
      "text/plain": [
       "<Figure size 864x864 with 4 Axes>"
      ]
     },
     "metadata": {
      "needs_background": "light"
     },
     "output_type": "display_data"
    }
   ],
   "source": [
    "%%time\n",
    "test_img = x_train_data[4][1]\n",
    "skeleton = morphology.medial_axis(test_img)\n",
    "skeleton = morphology.closing(skeleton)\n",
    "beta = 50\n",
    "threshold = 0.9 \n",
    "\n",
    "thin_img,recon_img = DSE_v3(test_img,beta)\n",
    "t_img,_ = DSE_v2(test_img,threshold)\n",
    "fig, ax = plt.subplots(nrows = 2, ncols = 2,figsize = (12,12))\n",
    "plt.subplots_adjust(hspace=0, wspace=0.5)\n",
    "\n",
    "ax[0][0].imshow(thin_img)\n",
    "ax[0][0].set_title(f\"DSE_v3, Beta: {beta}\")\n",
    "ax[0][1].imshow(t_img)\n",
    "ax[0][1].set_title(f\"DSE_v2, Threshold: {threshold}\")\n",
    "ax[1][0].imshow(test_img)\n",
    "ax[1][0].set_title(\"Test Image\")\n",
    "ax[1][1].imshow(skeleton)\n",
    "ax[1][1].set_title(\"Skeleton\")\n"
   ]
  },
  {
   "cell_type": "code",
   "execution_count": 235,
   "metadata": {},
   "outputs": [
    {
     "name": "stdout",
     "output_type": "stream",
     "text": [
      "The end points: [(144, 2), (158, 54), (160, 54)]\n",
      "[[(144, 2), (145, 3), (146, 4), (147, 5), (148, 6), (149, 7), (149, 8), (149, 9), (148, 10), (149, 11), (149, 12), (149, 13), (149, 14), (149, 15), (149, 16), (150, 17), (151, 18), (151, 19), (151, 20), (151, 21), (151, 22), (151, 23), (152, 24), (152, 25), (153, 26), (153, 27), (153, 28), (153, 29), (152, 30), (152, 31), (151, 32), (152, 33), (152, 34), (152, 35), (152, 36), (152, 37), (152, 38), (153, 39)], [(158, 54), (159, 53)], [(160, 54), (159, 53)]]\n",
      "[[(144, 2), (145, 3), (146, 4), (147, 5), (148, 6), (149, 7), (149, 8), (149, 9), (148, 10), (149, 11), (149, 12), (149, 13), (149, 14), (149, 15), (149, 16), (150, 17), (151, 18), (151, 19), (151, 20), (151, 21), (151, 22), (151, 23), (152, 24), (152, 25), (153, 26), (153, 27), (153, 28), (153, 29), (152, 30), (152, 31), (151, 32), (152, 33), (152, 34), (152, 35), (152, 36), (152, 37), (152, 38), (153, 39)], [(158, 54), (159, 53)], [(160, 54), (159, 53)]]\n"
     ]
    },
    {
     "data": {
      "text/plain": [
       "<matplotlib.image.AxesImage at 0x1f54d152e88>"
      ]
     },
     "execution_count": 235,
     "metadata": {},
     "output_type": "execute_result"
    },
    {
     "data": {
      "image/png": "[encoded data removed]",
      "text/plain": [
       "<Figure size 432x288 with 1 Axes>"
      ]
     },
     "metadata": {
      "needs_background": "light"
     },
     "output_type": "display_data"
    },
    {
     "data": {
      "image/png": "[encoded data removed]",
      "text/plain": [
       "<Figure size 432x288 with 1 Axes>"
      ]
     },
     "metadata": {
      "needs_background": "light"
     },
     "output_type": "display_data"
    }
   ],
   "source": [
    "test_img = x_train_data[3][1]\n",
    "skeleton = morphology.thin(test_img)\n",
    "skeleton = morphology.closing(skeleton)\n",
    "skeleton = np.pad(skeleton,((1,1),(1,1)),\"constant\")\n",
    "all_branch = get_branches(skeleton)\n",
    "print(all_branch)\n",
    "plt.figure()\n",
    "plt.imshow(skeleton)\n",
    "for branch in all_branch:    \n",
    "    for points in branch:\n",
    "        r = points[1]\n",
    "        c = points[0]\n",
    "        skeleton[r,c] = 0\n",
    "plt.figure()\n",
    "plt.imshow(skeleton)"
   ]
  },
  {
   "cell_type": "markdown",
   "metadata": {},
   "source": [
    "# Remove intersection area"
   ]
  },
  {
   "cell_type": "code",
   "execution_count": 233,
   "metadata": {},
   "outputs": [
    {
     "ename": "SyntaxError",
     "evalue": "invalid syntax (<ipython-input-233-f97b0669ba4b>, line 1)",
     "output_type": "error",
     "traceback": [
      "\u001b[1;36m  File \u001b[1;32m\"<ipython-input-233-f97b0669ba4b>\"\u001b[1;36m, line \u001b[1;32m1\u001b[0m\n\u001b[1;33m    test_img = x_train_data[][1]\u001b[0m\n\u001b[1;37m                            ^\u001b[0m\n\u001b[1;31mSyntaxError\u001b[0m\u001b[1;31m:\u001b[0m invalid syntax\n"
     ]
    }
   ],
   "source": [
    "test_img = x_train_data[][1]\n",
    "skeleton,dist_tr = morphology.medial_axis(test_img,return_distance=True)\n",
    "pruned_skel,_ = DSE_v2(skeleton,0.9)\n",
    "out = remove_intersection(test_img,pruned_skel,dist_tr)\n",
    "fig, ax = plt.subplots(nrows = 2, ncols = 2,figsize = (12,12))\n",
    "plt.subplots_adjust(hspace=0, wspace=0.5)\n",
    "\n",
    "ax[0,0].imshow(test_img)\n",
    "ax[0,0].set_title(\"Binary image\")\n",
    "ax[0,1].imshow(out)\n",
    "ax[0,1].set_title(\"Output image\")\n",
    "ax[1,0].imshow(skeleton)\n",
    "ax[1,0].set_title(\"Skeleton image\")\n",
    "ax[1,1].imshow(pruned_skel)\n",
    "ax[1,1].set_title(\"Pruned image\")\n"
   ]
  },
  {
   "cell_type": "code",
   "execution_count": null,
   "metadata": {},
   "outputs": [],
   "source": [
    "def remove_intersection(binary_img,skel_img,dist_trans):\n",
    "    \"\"\"\n",
    "    This function removes the branches from the intersection.\n",
    "    \n",
    "    Argument:\n",
    "    binary_img - Binary image\n",
    "    skel_img - Pruned skeleton image\n",
    "    dist_trans - The distance transform matrix of the skeleton image\n",
    "    \n",
    "    Return:\n",
    "    output_img - Individiual branches of the image    \n",
    "    \"\"\"\n",
    "    all_branches = get_branches(skel_img)\n",
    "    img = skel_img.copy()*1\n",
    "    for branches in all_branches:\n",
    "        c,r = branches[-1]\n",
    "        radius = math.floor(dist_trans[r,c])\n",
    "        stel = morphology.disk(radius)\n",
    "        img[r-radius:r+radius+1,c-radius:c+radius+1] -= stel\n",
    "    \n",
    "    return img == 1"
   ]
  },
  {
   "cell_type": "code",
   "execution_count": null,
   "metadata": {},
   "outputs": [],
   "source": [
    "x,y = [1,2]\n",
    "print(x)"
   ]
  },
  {
   "cell_type": "code",
   "execution_count": null,
   "metadata": {},
   "outputs": [],
   "source": []
  },
  {
   "cell_type": "code",
   "execution_count": null,
   "metadata": {},
   "outputs": [],
   "source": [
    "def segment_cracks(img,E,dist_trans):\n",
    "    \"\"\"\n",
    "    This function segments an alligator crack into multiple segments\n",
    "    by using a circle placing it at the intersection points.\n",
    "    \n",
    "    Argument:\n",
    "    img - Binary image (Segmentation map)\n",
    "    E - a list of end points in tuple (x,y)\n",
    "    dist_trans - distance transform matrix\n",
    "    \n",
    "    Return:\n",
    "    img - Network of cracks broken up to multiple segments\n",
    "    \"\"\"\n",
    "    \n",
    "    \n",
    "    bn_img = img.copy()*1\n",
    "    print(inter_points)\n",
    "    if len(inter_points) >= 1:\n",
    "        for points in inter_points:\n",
    "            r = points[1]\n",
    "            c = points[0]\n",
    "            rad = math.ceil(dist_trans[r,c])\n",
    "            stel = morphology.disk(rad)\n",
    "            bn_img[r-rad:r+rad+1,c-rad:c+rad+1] += stel\n",
    "\n",
    "    return bn_img == 1\n",
    "\n",
    "    "
   ]
  },
  {
   "cell_type": "code",
   "execution_count": null,
   "metadata": {},
   "outputs": [],
   "source": []
  },
  {
   "cell_type": "code",
   "execution_count": null,
   "metadata": {},
   "outputs": [],
   "source": [
    "test_img = x_train_data[2][1]\n",
    "_,dt = morphology.medial_axis(test_img,return_distance = True)\n",
    "thin_img,recon_img = DSE(test_img,0.9)\n",
    "skel_img = morphology.thin(thin_img)\n",
    "E,I = get_imp_points(thin_img)\n",
    "#s_img = segment_cracks(test_img,I,dt)\n",
    "print(len(I))\n",
    "plt.figure()\n",
    "plt.imshow(test_img)\n",
    "stel = morphology.disk(1)\n",
    "\n",
    "plt.figure()\n",
    "s_img = morphology.white_tophat(s_img,stel)\n",
    "plt.imshow(s_img)"
   ]
  },
  {
   "cell_type": "markdown",
   "metadata": {},
   "source": [
    "# Import images from Crack500 dataset"
   ]
  },
  {
   "cell_type": "code",
   "execution_count": null,
   "metadata": {},
   "outputs": [],
   "source": [
    "# Specify text file directory\n",
    "def generator_train_data_names(directory_text,directory_image,num_data,dims,interpolation):\n",
    "    \"\"\"\n",
    "    This function returns the file name of the input label and corresponding ground truth\n",
    "    Arguments:\n",
    "    directory - Provide the directory to read a file\n",
    "    \"\"\"\n",
    "    input_data = None\n",
    "    ground_truth = None\n",
    "    with open(directory_text,\"r\") as f:\n",
    "        data = f.readlines()\n",
    "    \n",
    "    random.shuffle(data)\n",
    "    data_list = []\n",
    "    i = 0\n",
    "    while True:\n",
    "        try:\n",
    "            input_data = data[i].split()[0]\n",
    "            ground_truth = data[i].split()[1]\n",
    "            data_list.append((input_data,ground_truth))\n",
    "            i = i + 1\n",
    "            if i == num_data:\n",
    "                data_array = image_data(directory_image,data_list,dims,interpolation)\n",
    "                yield data_array\n",
    "                data_list = []\n",
    "        except IndexError as e:\n",
    "            data_array = image_data(directory_image,data_list,dims,interpolation)\n",
    "            yield data_array\n",
    "            break\n"
   ]
  },
  {
   "cell_type": "code",
   "execution_count": null,
   "metadata": {},
   "outputs": [],
   "source": [
    "def image_data(directory,data_list,dims,interpolation):\n",
    "    \"\"\"\n",
    "    This function obtains data_list from get_train_data_names and then \n",
    "    converts the image into a square image.\n",
    "    \n",
    "    Arguments:\n",
    "    data_list - list of data names and corresponding ground truth\n",
    "    dims - Resize image to user input size, required to be a tuple\n",
    "    \n",
    "    Return:\n",
    "    data_array - Returns the image as a numpy array\n",
    "    \"\"\"\n",
    "    \n",
    "    data_array = []\n",
    "    for i in range(len(data_list)):\n",
    "        x = cv2.imread(directory + data_list[i][0],cv2.IMREAD_GRAYSCALE)\n",
    "        y = cv2.imread(directory + data_list[i][1],cv2.IMREAD_UNCHANGED)\n",
    "        \n",
    "        x = cv2.resize(x,dims,interpolation = interpolation)/255\n",
    "        y = cv2.resize(y,dims,interpolation = interpolation)/255\n",
    "        \n",
    "        data_array.append([x,y])\n",
    "        \n",
    "    return data_array"
   ]
  },
  {
   "cell_type": "code",
   "execution_count": null,
   "metadata": {},
   "outputs": [],
   "source": [
    "def get_train_data(gen):\n",
    "    try:\n",
    "        data = next(gen)\n",
    "        return data\n",
    "    except:\n",
    "        return -1\n"
   ]
  },
  {
   "cell_type": "code",
   "execution_count": null,
   "metadata": {},
   "outputs": [],
   "source": [
    "directory_text = \"./Data/CRACK500/train.txt\"\n",
    "directory_image = \"./Data/CRACK500/traincrop/\"\n",
    "x_train = generator_data(directory_text,directory_image,20,(64,64),interpolation = cv2.INTER_CUBIC)\n",
    "\n",
    "directory_text = \"./Data/CRACK500/val.txt\"\n",
    "directory_image = \"./Data/CRACK500/valcrop/\"\n",
    "x_test = generator_data(directory_text,directory_image,10,(64,64),interpolation = cv2.INTER_CUBIC)"
   ]
  },
  {
   "cell_type": "code",
   "execution_count": null,
   "metadata": {},
   "outputs": [],
   "source": [
    "print(x_train is x_test)\n",
    "print(type(x_train), type(x_test))\n",
    "\n",
    "x_train_data = next(x_train)\n",
    "x_test_data = next(x_test)\n",
    "\n",
    "print(len(x_train_data), len(x_test_data))"
   ]
  },
  {
   "cell_type": "code",
   "execution_count": null,
   "metadata": {},
   "outputs": [],
   "source": []
  },
  {
   "cell_type": "code",
   "execution_count": null,
   "metadata": {},
   "outputs": [],
   "source": [
    "def image_data(directory,data_list,dims,interpolation):\n",
    "    \"\"\"\n",
    "    This function obtains data_list from get_train_data_names and then \n",
    "    converts the image into a square image.\n",
    "    \n",
    "    Arguments:\n",
    "    data_list - list of data names and corresponding ground truth\n",
    "    dims - Resize image to user input size, required to be a tuple\n",
    "    \n",
    "    Return:\n",
    "    data_array - Returns the image as a numpy array\n",
    "    \"\"\"\n",
    "    \n",
    "    data_array = []\n",
    "    for i in range(len(data_list)):\n",
    "        x = cv2.imread(directory + data_list[i][0],cv2.IMREAD_GRAYSCALE)\n",
    "        y = cv2.imread(directory + data_list[i][1],cv2.IMREAD_UNCHANGED)\n",
    "        \n",
    "        x = cv2.resize(x,dims,interpolation = interpolation)/255\n",
    "        y = cv2.resize(y,dims,interpolation = interpolation)/255\n",
    "        \n",
    "        data_array.append((x,y))\n",
    "        \n",
    "    return data_array"
   ]
  },
  {
   "cell_type": "markdown",
   "metadata": {},
   "source": [
    "# Skeletonize binary images"
   ]
  },
  {
   "cell_type": "code",
   "execution_count": null,
   "metadata": {},
   "outputs": [],
   "source": [
    "def neighbours(x,y,image):\n",
    "    \"\"\"Return 8-neighbours of image point P1(x,y), in a clockwise order\"\"\"\n",
    "    img = image\n",
    "    x_1, y_1, x1, y1 = x-1, y-1, x+1, y+1;\n",
    "    return [img[x_1][y], img[x_1][y1], img[x][y1], img[x1][y1], img[x1][y], img[x1][y_1], img[x][y_1], img[x_1][y_1]]   \n"
   ]
  },
  {
   "cell_type": "code",
   "execution_count": null,
   "metadata": {},
   "outputs": [],
   "source": [
    "print(skl_image2.shape)"
   ]
  },
  {
   "cell_type": "code",
   "execution_count": null,
   "metadata": {},
   "outputs": [],
   "source": [
    "def getEndPointsCoordinates(skeleton):\n",
    "    image = skeleton.copy()\n",
    "    end_points = [] # (x,y)\n",
    "    for x in range(0,image.shape[0]):\n",
    "        for y in range(0,image.shape[1]):\n",
    "            if image[x][y] == 1:\n",
    "                neighbours_list = neighbours(x,y,image)\n",
    "                if sum(neighbours_list) == 1:\n",
    "                    end_points.append((y,x))\n",
    "    \n",
    "    \n",
    "    # Remove duplicates\n",
    "    \n",
    "    # Remove possible duplicate end points\n",
    "    return end_points"
   ]
  },
  {
   "cell_type": "code",
   "execution_count": null,
   "metadata": {},
   "outputs": [],
   "source": [
    "#print(end_points(skl_image2))\n",
    "#print(getEndPointsCoordinates(skl_image2))\n",
    "print(getSkeletonIntersection(skl_image2))"
   ]
  },
  {
   "cell_type": "code",
   "execution_count": null,
   "metadata": {},
   "outputs": [],
   "source": [
    "def end_points(img):\n",
    "    (rows,cols) = np.nonzero(img)\n",
    "\n",
    "    # Initialize empty list of co-ordinates\n",
    "    skel_coords = []\n",
    "\n",
    "    # For each non-zero pixel...\n",
    "    for (r,c) in zip(rows,cols):\n",
    "\n",
    "        # Extract an 8-connected neighbourhood\n",
    "        (col_neigh,row_neigh) = np.meshgrid(np.array([c-1,c,c+1]), np.array([r-1,r,r+1]))\n",
    "\n",
    "        # Cast to int to index into image\n",
    "        col_neigh = col_neigh.astype('int')\n",
    "        row_neigh = row_neigh.astype('int')\n",
    "\n",
    "        # Convert into a single 1D array and check for non-zero locations\n",
    "        pix_neighbourhood = img[row_neigh,col_neigh].ravel() != 0\n",
    "\n",
    "        # If the number of non-zero locations equals 2, add this to \n",
    "        # our list of co-ordinates\n",
    "        if np.sum(pix_neighbourhood) == 2:\n",
    "            skel_coords.append((r,c))\n",
    "    return skel_coords "
   ]
  },
  {
   "cell_type": "markdown",
   "metadata": {},
   "source": [
    "# CRACK500 data augmentation functions"
   ]
  },
  {
   "cell_type": "markdown",
   "metadata": {},
   "source": [
    "# Data Augmentation"
   ]
  },
  {
   "cell_type": "code",
   "execution_count": null,
   "metadata": {},
   "outputs": [],
   "source": [
    "def random_image_crop(img_array,segmentation_array,crop_size):\n",
    "    \"\"\"\n",
    "    Arguments:\n",
    "    img_array - an array of an image with shape n_H, n_W, n_C\n",
    "    crop_size - defined by the user\n",
    "    \n",
    "    Returns:\n",
    "    cropped image\n",
    "    \"\"\"\n",
    "    height,width = img_array.shape[0], img_array.shape[1]\n",
    "    dy,dx = crop_size\n",
    "    x = np.random.randint(0,width-dx+1)\n",
    "    y = np.random.randint(0,height-dy+1)\n",
    "\n",
    "    cropped_img = img_array[y:y+dy,x:x+dx,:]\n",
    "    cropped_segmentation = segmentation_array[y:y+dy,x:x+dx]\n",
    "    \n",
    "    return cropped_img, cropped_segmentation\n",
    "    "
   ]
  },
  {
   "cell_type": "code",
   "execution_count": null,
   "metadata": {},
   "outputs": [],
   "source": [
    "def get_image_and_mask(size,crop_size,COCO_object,img_info,categories,catIds,mode = \"default\"):\n",
    "    \"\"\"\n",
    "    DOCSTRING:\n",
    "    Generates a fixed cropped image size of 256 by 256 randomly\n",
    "    along with the mask\n",
    "    \n",
    "    Arguments:\n",
    "    imgIds - image IDs from filtered classes in the COCO dataset\n",
    "    \n",
    "    Yields:\n",
    "    img - image of size 256 x 256 pixels \n",
    "    mask - mask of size 256 x 256 pixels\n",
    "    \n",
    "    \"\"\"\n",
    "    X_data = np.zeros((size,crop_size[0],crop_size[1],3))\n",
    "    Y_data = np.zeros((size,crop_size[0],crop_size[1]))\n",
    "    \n",
    "    \n",
    "    random.shuffle(img_info)\n",
    "    img_file_name = [x[\"file_name\"] for x in img_info]\n",
    "    c = 0\n",
    "    for i in range(0,size):\n",
    "        \n",
    "        img_array = image.imread(\"./COCO Dataset/val2017/val2017/\" + img_file_name[c])\n",
    "        segmentation_array = segmentation_mask_output(COCO_object,img_info[c],catIds,categories,mode)\n",
    "        X_data[i],Y_data[i] = random_image_crop(img_array, segmentation_array,crop_size)\n",
    "        \n",
    "        c += 1\n",
    "        if i > len(img_info):\n",
    "            c = 0\n",
    "            \n",
    "    X_data = X_data/255\n",
    "    Y_data = np.reshape(Y_data,(size,crop_size[0],crop_size[1],1))\n",
    "    return X_data, Y_data\n"
   ]
  }
 ],
 "metadata": {
  "kernelspec": {
   "display_name": "Python 3",
   "language": "python",
   "name": "python3"
  },
  "language_info": {
   "codemirror_mode": {
    "name": "ipython",
    "version": 3
   },
   "file_extension": ".py",
   "mimetype": "text/x-python",
   "name": "python",
   "nbconvert_exporter": "python",
   "pygments_lexer": "ipython3",
   "version": "3.7.6"
  }
 },
 "nbformat": 4,
 "nbformat_minor": 4
}
