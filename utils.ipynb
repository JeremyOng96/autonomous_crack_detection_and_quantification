{
 "cells": [
  {
   "cell_type": "code",
   "execution_count": 1,
   "metadata": {},
   "outputs": [],
   "source": [
    "import numpy as np\n",
    "from scipy import ndimage\n",
    "import matplotlib.pyplot as plt\n",
    "import cv2\n",
    "import fractions\n",
    "import math\n",
    "from matplotlib import image\n",
    "import random\n",
    "from skimage import morphology,feature\n",
    "import glob, os\n",
    "#from tensorflow.keras.preprocessing.image import ImageDataGenerator"
   ]
  },
  {
   "cell_type": "markdown",
   "metadata": {},
   "source": [
    "# Import images from Crack500 dataset\n"
   ]
  },
  {
   "cell_type": "code",
   "execution_count": 4,
   "metadata": {},
   "outputs": [],
   "source": [
    "folder_path = \"./Crack500/validation\"\n",
    "mask_paths = glob.glob(os.path.join(folder_path,'mask','*png'))\n"
   ]
  },
  {
   "cell_type": "code",
   "execution_count": 5,
   "metadata": {},
   "outputs": [
    {
     "name": "stdout",
     "output_type": "stream",
     "text": [
      "['./Crack500/validation\\\\mask\\\\20160222_080850_1281_361.png', './Crack500/validation\\\\mask\\\\20160222_080850_1281_721.png', './Crack500/validation\\\\mask\\\\20160222_080850_1921_1.png', './Crack500/validation\\\\mask\\\\20160222_080850_1921_361.png', './Crack500/validation\\\\mask\\\\20160222_080850_1_361.png', './Crack500/validation\\\\mask\\\\20160222_080850_641_361.png', './Crack500/validation\\\\mask\\\\20160222_080850_641_721.png', './Crack500/validation\\\\mask\\\\20160222_115224_1281_1.png', './Crack500/validation\\\\mask\\\\20160222_115224_1281_1081.png', './Crack500/validation\\\\mask\\\\20160222_115224_1281_361.png', './Crack500/validation\\\\mask\\\\20160222_115224_1281_721.png', './Crack500/validation\\\\mask\\\\20160222_115224_1921_1081.png', './Crack500/validation\\\\mask\\\\20160222_115224_641_1.png', './Crack500/validation\\\\mask\\\\20160222_115224_641_1081.png', './Crack500/validation\\\\mask\\\\20160222_115224_641_361.png', './Crack500/validation\\\\mask\\\\20160222_115224_641_721.png', './Crack500/validation\\\\mask\\\\20160222_115837_1281_1.png', './Crack500/validation\\\\mask\\\\20160222_115837_1281_1081.png', './Crack500/validation\\\\mask\\\\20160222_115837_1281_361.png', './Crack500/validation\\\\mask\\\\20160222_115837_1281_721.png', './Crack500/validation\\\\mask\\\\20160222_164851_1281_1081.png', './Crack500/validation\\\\mask\\\\20160222_164851_641_1.png', './Crack500/validation\\\\mask\\\\20160222_164851_641_1081.png', './Crack500/validation\\\\mask\\\\20160222_164851_641_361.png', './Crack500/validation\\\\mask\\\\20160222_164851_641_721.png', './Crack500/validation\\\\mask\\\\20160222_165225_1281_361.png', './Crack500/validation\\\\mask\\\\20160222_165225_1281_721.png', './Crack500/validation\\\\mask\\\\20160222_165225_1921_721.png', './Crack500/validation\\\\mask\\\\20160222_165225_1_361.png', './Crack500/validation\\\\mask\\\\20160222_165225_641_361.png', './Crack500/validation\\\\mask\\\\20160222_165402_1281_1.png', './Crack500/validation\\\\mask\\\\20160222_165402_1281_361.png', './Crack500/validation\\\\mask\\\\20160222_165402_641_1081.png', './Crack500/validation\\\\mask\\\\20160222_165402_641_721.png', './Crack500/validation\\\\mask\\\\20160222_165926_1281_361.png', './Crack500/validation\\\\mask\\\\20160222_165926_1281_721.png', './Crack500/validation\\\\mask\\\\20160222_165926_1921_721.png', './Crack500/validation\\\\mask\\\\20160222_165926_1_1081.png', './Crack500/validation\\\\mask\\\\20160222_165926_1_721.png', './Crack500/validation\\\\mask\\\\20160222_165926_641_1.png', './Crack500/validation\\\\mask\\\\20160222_165926_641_361.png', './Crack500/validation\\\\mask\\\\20160222_165926_641_721.png', './Crack500/validation\\\\mask\\\\20160302_155857_1281_1.png', './Crack500/validation\\\\mask\\\\20160302_155857_1281_361.png', './Crack500/validation\\\\mask\\\\20160302_155857_1281_721.png', './Crack500/validation\\\\mask\\\\20160302_155857_1_721.png', './Crack500/validation\\\\mask\\\\20160302_155857_641_721.png', './Crack500/validation\\\\mask\\\\20160307_144202_1281_361.png', './Crack500/validation\\\\mask\\\\20160307_144202_1281_721.png', './Crack500/validation\\\\mask\\\\20160307_144202_1921_361.png', './Crack500/validation\\\\mask\\\\20160307_144202_1_361.png', './Crack500/validation\\\\mask\\\\20160307_144202_641_361.png', './Crack500/validation\\\\mask\\\\20160307_145059_1281_361.png', './Crack500/validation\\\\mask\\\\20160307_145059_1281_721.png', './Crack500/validation\\\\mask\\\\20160307_145059_1921_1081.png', './Crack500/validation\\\\mask\\\\20160307_145059_1921_361.png', './Crack500/validation\\\\mask\\\\20160307_145059_1921_721.png', './Crack500/validation\\\\mask\\\\20160307_145059_1_361.png', './Crack500/validation\\\\mask\\\\20160307_145059_1_721.png', './Crack500/validation\\\\mask\\\\20160307_145059_641_361.png', './Crack500/validation\\\\mask\\\\20160307_145059_641_721.png', './Crack500/validation\\\\mask\\\\20160307_162438_1281_361.png', './Crack500/validation\\\\mask\\\\20160307_162438_1281_721.png', './Crack500/validation\\\\mask\\\\20160307_162438_1921_1081.png', './Crack500/validation\\\\mask\\\\20160307_162438_1921_721.png', './Crack500/validation\\\\mask\\\\20160307_162438_1_361.png', './Crack500/validation\\\\mask\\\\20160307_162438_641_361.png', './Crack500/validation\\\\mask\\\\20160307_162438_641_721.png', './Crack500/validation\\\\mask\\\\20160310_114505_1281_1.png', './Crack500/validation\\\\mask\\\\20160310_114505_641_1.png', './Crack500/validation\\\\mask\\\\20160310_114505_641_1081.png', './Crack500/validation\\\\mask\\\\20160310_114505_641_361.png', './Crack500/validation\\\\mask\\\\20160310_114505_641_721.png', './Crack500/validation\\\\mask\\\\20160316_142539_1281_361.png', './Crack500/validation\\\\mask\\\\20160316_142539_1281_721.png', './Crack500/validation\\\\mask\\\\20160316_142539_1921_361.png', './Crack500/validation\\\\mask\\\\20160316_142539_1_721.png', './Crack500/validation\\\\mask\\\\20160316_142539_641_721.png', './Crack500/validation\\\\mask\\\\20160316_143445_1281_1.png', './Crack500/validation\\\\mask\\\\20160316_143445_1281_1081.png', './Crack500/validation\\\\mask\\\\20160316_143445_1281_361.png', './Crack500/validation\\\\mask\\\\20160316_143445_1281_721.png', './Crack500/validation\\\\mask\\\\20160316_143445_1921_1081.png', './Crack500/validation\\\\mask\\\\20160316_143445_1_1081.png', './Crack500/validation\\\\mask\\\\20160316_143445_1_721.png', './Crack500/validation\\\\mask\\\\20160316_143445_641_361.png', './Crack500/validation\\\\mask\\\\20160316_143445_641_721.png', './Crack500/validation\\\\mask\\\\20160316_143527_1281_1081.png', './Crack500/validation\\\\mask\\\\20160316_143527_1281_361.png', './Crack500/validation\\\\mask\\\\20160316_143527_1281_721.png', './Crack500/validation\\\\mask\\\\20160316_143527_1921_361.png', './Crack500/validation\\\\mask\\\\20160316_143527_1_1.png', './Crack500/validation\\\\mask\\\\20160316_143527_1_361.png', './Crack500/validation\\\\mask\\\\20160316_143527_641_1.png', './Crack500/validation\\\\mask\\\\20160316_143527_641_361.png', './Crack500/validation\\\\mask\\\\20160316_143527_641_721.png', './Crack500/validation\\\\mask\\\\20160316_143547_1281_1081.png', './Crack500/validation\\\\mask\\\\20160316_143547_1281_361.png', './Crack500/validation\\\\mask\\\\20160316_143547_1281_721.png', './Crack500/validation\\\\mask\\\\20160316_143547_1921_1081.png', './Crack500/validation\\\\mask\\\\20160316_143547_1_1.png', './Crack500/validation\\\\mask\\\\20160316_143547_641_1.png', './Crack500/validation\\\\mask\\\\20160316_143547_641_361.png', './Crack500/validation\\\\mask\\\\20160316_143547_641_721.png', './Crack500/validation\\\\mask\\\\20160318_181632_1281_1081.png', './Crack500/validation\\\\mask\\\\20160318_181632_1281_361.png', './Crack500/validation\\\\mask\\\\20160318_181632_1281_721.png', './Crack500/validation\\\\mask\\\\20160318_181632_1921_1.png', './Crack500/validation\\\\mask\\\\20160318_181632_1921_361.png', './Crack500/validation\\\\mask\\\\20160318_181632_1_1.png', './Crack500/validation\\\\mask\\\\20160318_181632_1_361.png', './Crack500/validation\\\\mask\\\\20160318_181632_641_1.png', './Crack500/validation\\\\mask\\\\20160318_181632_641_361.png', './Crack500/validation\\\\mask\\\\20160318_181632_641_721.png', './Crack500/validation\\\\mask\\\\20160321_183947_1281_361.png', './Crack500/validation\\\\mask\\\\20160321_183947_1281_721.png', './Crack500/validation\\\\mask\\\\20160321_183947_1921_721.png', './Crack500/validation\\\\mask\\\\20160321_183947_1_721.png', './Crack500/validation\\\\mask\\\\20160321_183947_641_721.png', './Crack500/validation\\\\mask\\\\20160321_185557_1281_721.png', './Crack500/validation\\\\mask\\\\20160321_185557_1921_1.png', './Crack500/validation\\\\mask\\\\20160321_185557_1921_1081.png', './Crack500/validation\\\\mask\\\\20160321_185557_1921_361.png', './Crack500/validation\\\\mask\\\\20160321_185557_1921_721.png', './Crack500/validation\\\\mask\\\\20160321_185557_1_361.png', './Crack500/validation\\\\mask\\\\20160321_185557_1_721.png', './Crack500/validation\\\\mask\\\\20160321_185557_641_721.png', './Crack500/validation\\\\mask\\\\20160324_170347_1281_1.png', './Crack500/validation\\\\mask\\\\20160324_170347_1281_1081.png', './Crack500/validation\\\\mask\\\\20160324_170347_1281_361.png', './Crack500/validation\\\\mask\\\\20160324_170347_1281_721.png', './Crack500/validation\\\\mask\\\\20160324_170347_641_1.png', './Crack500/validation\\\\mask\\\\20160324_170347_641_361.png', './Crack500/validation\\\\mask\\\\20160324_170347_641_721.png', './Crack500/validation\\\\mask\\\\20160326_141808_1281_1.png', './Crack500/validation\\\\mask\\\\20160326_141808_641_1.png', './Crack500/validation\\\\mask\\\\20160326_141808_641_361.png', './Crack500/validation\\\\mask\\\\20160326_141808_641_721.png', './Crack500/validation\\\\mask\\\\20160326_142521_1281_1.png', './Crack500/validation\\\\mask\\\\20160326_142521_1281_1081.png', './Crack500/validation\\\\mask\\\\20160326_142521_1281_361.png', './Crack500/validation\\\\mask\\\\20160326_142521_1281_721.png', './Crack500/validation\\\\mask\\\\20160326_142521_641_1.png', './Crack500/validation\\\\mask\\\\20160326_142521_641_1081.png', './Crack500/validation\\\\mask\\\\20160326_142745_1281_1081.png', './Crack500/validation\\\\mask\\\\20160326_142745_1281_361.png', './Crack500/validation\\\\mask\\\\20160326_142745_1281_721.png', './Crack500/validation\\\\mask\\\\20160326_142745_1921_1081.png', './Crack500/validation\\\\mask\\\\20160326_142745_1_1.png', './Crack500/validation\\\\mask\\\\20160326_142745_641_361.png', './Crack500/validation\\\\mask\\\\20160328_151020_1281_361.png', './Crack500/validation\\\\mask\\\\20160328_151020_1921_361.png', './Crack500/validation\\\\mask\\\\20160328_151020_1_1.png', './Crack500/validation\\\\mask\\\\20160328_151020_1_361.png', './Crack500/validation\\\\mask\\\\20160328_151020_641_361.png', './Crack500/validation\\\\mask\\\\20160328_151020_641_721.png', './Crack500/validation\\\\mask\\\\20160328_151057_1281_1.png', './Crack500/validation\\\\mask\\\\20160328_151057_1281_1081.png', './Crack500/validation\\\\mask\\\\20160328_151057_1281_361.png', './Crack500/validation\\\\mask\\\\20160328_151057_1281_721.png', './Crack500/validation\\\\mask\\\\20160328_151057_1921_721.png', './Crack500/validation\\\\mask\\\\20160328_151057_641_1081.png', './Crack500/validation\\\\mask\\\\20160328_151057_641_721.png', './Crack500/validation\\\\mask\\\\20160328_151244_1281_1081.png', './Crack500/validation\\\\mask\\\\20160328_151244_1281_361.png', './Crack500/validation\\\\mask\\\\20160328_151244_1281_721.png', './Crack500/validation\\\\mask\\\\20160328_151244_1921_1081.png', './Crack500/validation\\\\mask\\\\20160328_151244_1921_361.png', './Crack500/validation\\\\mask\\\\20160328_151244_1921_721.png', './Crack500/validation\\\\mask\\\\20160328_151244_1_1.png', './Crack500/validation\\\\mask\\\\20160328_151244_1_1081.png', './Crack500/validation\\\\mask\\\\20160328_151244_1_721.png', './Crack500/validation\\\\mask\\\\20160328_151244_641_1.png', './Crack500/validation\\\\mask\\\\20160328_151244_641_361.png', './Crack500/validation\\\\mask\\\\20160328_151244_641_721.png', './Crack500/validation\\\\mask\\\\20160328_151752_1281_361.png', './Crack500/validation\\\\mask\\\\20160328_151752_1281_721.png', './Crack500/validation\\\\mask\\\\20160328_151752_1921_721.png', './Crack500/validation\\\\mask\\\\20160328_151752_1_361.png', './Crack500/validation\\\\mask\\\\20160328_151752_1_721.png', './Crack500/validation\\\\mask\\\\20160328_151752_641_361.png', './Crack500/validation\\\\mask\\\\20160328_152022_1281_721.png', './Crack500/validation\\\\mask\\\\20160328_152022_1921_1.png', './Crack500/validation\\\\mask\\\\20160328_152022_1921_361.png', './Crack500/validation\\\\mask\\\\20160328_152022_1921_721.png', './Crack500/validation\\\\mask\\\\20160328_152022_1_1081.png', './Crack500/validation\\\\mask\\\\20160328_152022_1_361.png', './Crack500/validation\\\\mask\\\\20160328_152022_1_721.png', './Crack500/validation\\\\mask\\\\20160328_152022_641_361.png', './Crack500/validation\\\\mask\\\\20160328_152022_641_721.png', './Crack500/validation\\\\mask\\\\20160328_152305_1281_361.png', './Crack500/validation\\\\mask\\\\20160328_152305_1281_721.png', './Crack500/validation\\\\mask\\\\20160328_152305_1921_361.png', './Crack500/validation\\\\mask\\\\20160328_152305_1921_721.png', './Crack500/validation\\\\mask\\\\20160328_152305_1_361.png', './Crack500/validation\\\\mask\\\\20160328_152305_641_361.png', './Crack500/validation\\\\mask\\\\20160328_152305_641_721.png', './Crack500/validation\\\\mask\\\\20160328_152511_1281_361.png', './Crack500/validation\\\\mask\\\\20160328_152511_1281_721.png', './Crack500/validation\\\\mask\\\\20160328_152511_1921_361.png', './Crack500/validation\\\\mask\\\\20160328_152511_1921_721.png', './Crack500/validation\\\\mask\\\\20160328_152511_1_361.png', './Crack500/validation\\\\mask\\\\20160328_152511_641_361.png', './Crack500/validation\\\\mask\\\\20160328_152511_641_721.png', './Crack500/validation\\\\mask\\\\20160328_152747_1281_361.png', './Crack500/validation\\\\mask\\\\20160328_152747_1281_721.png', './Crack500/validation\\\\mask\\\\20160328_152747_1921_361.png', './Crack500/validation\\\\mask\\\\20160328_152747_1_361.png', './Crack500/validation\\\\mask\\\\20160328_152747_641_361.png', './Crack500/validation\\\\mask\\\\20160328_153548_1281_1081.png', './Crack500/validation\\\\mask\\\\20160328_153548_1281_361.png', './Crack500/validation\\\\mask\\\\20160328_153548_1281_721.png', './Crack500/validation\\\\mask\\\\20160328_153548_1921_361.png', './Crack500/validation\\\\mask\\\\20160328_153548_1921_721.png', './Crack500/validation\\\\mask\\\\20160328_153548_1_1.png', './Crack500/validation\\\\mask\\\\20160328_153548_1_1081.png', './Crack500/validation\\\\mask\\\\20160328_153548_641_1.png', './Crack500/validation\\\\mask\\\\20160328_153548_641_1081.png', './Crack500/validation\\\\mask\\\\20160328_153548_641_361.png', './Crack500/validation\\\\mask\\\\20160328_153548_641_721.png', './Crack500/validation\\\\mask\\\\20160328_153604_1281_1.png', './Crack500/validation\\\\mask\\\\20160328_153604_1281_361.png', './Crack500/validation\\\\mask\\\\20160328_153604_1281_721.png', './Crack500/validation\\\\mask\\\\20160328_153604_1921_361.png', './Crack500/validation\\\\mask\\\\20160328_153604_1921_721.png', './Crack500/validation\\\\mask\\\\20160328_153604_1_1.png', './Crack500/validation\\\\mask\\\\20160328_153604_1_361.png', './Crack500/validation\\\\mask\\\\20160328_153604_641_1.png', './Crack500/validation\\\\mask\\\\20160328_153604_641_1081.png', './Crack500/validation\\\\mask\\\\20160328_153604_641_361.png', './Crack500/validation\\\\mask\\\\20160328_153604_641_721.png', './Crack500/validation\\\\mask\\\\20160328_153620_1281_1081.png', './Crack500/validation\\\\mask\\\\20160328_153620_1281_361.png', './Crack500/validation\\\\mask\\\\20160328_153620_1281_721.png', './Crack500/validation\\\\mask\\\\20160328_153620_1921_1081.png', './Crack500/validation\\\\mask\\\\20160328_153620_1921_361.png', './Crack500/validation\\\\mask\\\\20160328_153620_1_361.png', './Crack500/validation\\\\mask\\\\20160328_153620_1_721.png', './Crack500/validation\\\\mask\\\\20160328_153620_641_361.png', './Crack500/validation\\\\mask\\\\20160328_153620_641_721.png', './Crack500/validation\\\\mask\\\\20160328_153629_1281_361.png', './Crack500/validation\\\\mask\\\\20160328_153629_1281_721.png', './Crack500/validation\\\\mask\\\\20160328_153629_1921_361.png', './Crack500/validation\\\\mask\\\\20160328_153629_1_361.png', './Crack500/validation\\\\mask\\\\20160328_153629_641_361.png', './Crack500/validation\\\\mask\\\\20160328_153629_641_721.png', './Crack500/validation\\\\mask\\\\20160328_153829_1281_361.png', './Crack500/validation\\\\mask\\\\20160328_153829_1281_721.png', './Crack500/validation\\\\mask\\\\20160328_153829_1921_1.png', './Crack500/validation\\\\mask\\\\20160328_153829_1921_361.png', './Crack500/validation\\\\mask\\\\20160328_153829_1_1.png', './Crack500/validation\\\\mask\\\\20160328_153829_1_721.png', './Crack500/validation\\\\mask\\\\20160328_153829_641_1.png', './Crack500/validation\\\\mask\\\\20160328_153829_641_1081.png', './Crack500/validation\\\\mask\\\\20160328_153829_641_361.png', './Crack500/validation\\\\mask\\\\20160328_153829_641_721.png', './Crack500/validation\\\\mask\\\\20160329_103807_1081_1.png', './Crack500/validation\\\\mask\\\\20160329_103807_361_1.png', './Crack500/validation\\\\mask\\\\20160329_103807_361_1281.png', './Crack500/validation\\\\mask\\\\20160329_103807_361_1921.png', './Crack500/validation\\\\mask\\\\20160329_103807_361_641.png', './Crack500/validation\\\\mask\\\\20160329_103807_721_1.png', './Crack500/validation\\\\mask\\\\20160329_103807_721_1281.png', './Crack500/validation\\\\mask\\\\20160330_165956_1281_721.png', './Crack500/validation\\\\mask\\\\20160330_165956_1921_721.png', './Crack500/validation\\\\mask\\\\20160330_165956_1_1081.png', './Crack500/validation\\\\mask\\\\20160330_165956_1_721.png', './Crack500/validation\\\\mask\\\\20160330_165956_641_721.png', './Crack500/validation\\\\mask\\\\20160330_170359_1281_721.png', './Crack500/validation\\\\mask\\\\20160330_170359_1921_361.png', './Crack500/validation\\\\mask\\\\20160330_170359_1921_721.png', './Crack500/validation\\\\mask\\\\20160330_170359_1_721.png', './Crack500/validation\\\\mask\\\\20160330_170359_641_721.png', './Crack500/validation\\\\mask\\\\20160330_172309_1281_361.png', './Crack500/validation\\\\mask\\\\20160330_172309_1281_721.png', './Crack500/validation\\\\mask\\\\20160330_172309_1921_361.png', './Crack500/validation\\\\mask\\\\20160330_172309_1921_721.png', './Crack500/validation\\\\mask\\\\20160330_172309_1_721.png', './Crack500/validation\\\\mask\\\\20160330_172309_641_361.png', './Crack500/validation\\\\mask\\\\20160330_172309_641_721.png', './Crack500/validation\\\\mask\\\\20160402_150314_1281_1081.png', './Crack500/validation\\\\mask\\\\20160402_150314_1281_361.png', './Crack500/validation\\\\mask\\\\20160402_150314_1281_721.png', './Crack500/validation\\\\mask\\\\20160402_150314_1921_1.png', './Crack500/validation\\\\mask\\\\20160402_150314_1921_361.png', './Crack500/validation\\\\mask\\\\20160402_150314_1_361.png', './Crack500/validation\\\\mask\\\\20160402_150314_1_721.png', './Crack500/validation\\\\mask\\\\20160402_150314_641_361.png', './Crack500/validation\\\\mask\\\\20160402_150314_641_721.png', './Crack500/validation\\\\mask\\\\20160402_151049_1281_721.png', './Crack500/validation\\\\mask\\\\20160402_151049_1921_1081.png', './Crack500/validation\\\\mask\\\\20160402_151049_1921_721.png', './Crack500/validation\\\\mask\\\\20160402_151049_1_361.png', './Crack500/validation\\\\mask\\\\20160402_151049_1_721.png', './Crack500/validation\\\\mask\\\\20160402_151049_641_361.png', './Crack500/validation\\\\mask\\\\20160402_151049_641_721.png', './Crack500/validation\\\\mask\\\\20160402_151054_1281_1081.png', './Crack500/validation\\\\mask\\\\20160402_151054_1281_361.png', './Crack500/validation\\\\mask\\\\20160402_151054_1281_721.png', './Crack500/validation\\\\mask\\\\20160402_151054_1921_361.png', './Crack500/validation\\\\mask\\\\20160402_151054_1_361.png', './Crack500/validation\\\\mask\\\\20160402_151054_1_721.png', './Crack500/validation\\\\mask\\\\20160402_151054_641_361.png', './Crack500/validation\\\\mask\\\\20160402_151054_641_721.png', './Crack500/validation\\\\mask\\\\20160405_171348_1281_361.png', './Crack500/validation\\\\mask\\\\20160405_171348_1281_721.png', './Crack500/validation\\\\mask\\\\20160405_171348_1921_721.png', './Crack500/validation\\\\mask\\\\20160405_171348_1_721.png', './Crack500/validation\\\\mask\\\\20160405_171348_641_721.png', './Crack500/validation\\\\mask\\\\20160407_163130_1281_721.png', './Crack500/validation\\\\mask\\\\20160407_163130_1921_721.png', './Crack500/validation\\\\mask\\\\20160407_163130_1_361.png', './Crack500/validation\\\\mask\\\\20160407_163130_1_721.png', './Crack500/validation\\\\mask\\\\20160407_163130_641_721.png', './Crack500/validation\\\\mask\\\\20160407_163257_1281_1.png', './Crack500/validation\\\\mask\\\\20160407_163257_1281_361.png', './Crack500/validation\\\\mask\\\\20160407_163257_1281_721.png', './Crack500/validation\\\\mask\\\\20160407_163257_1921_1081.png', './Crack500/validation\\\\mask\\\\20160407_163257_1921_721.png', './Crack500/validation\\\\mask\\\\20160407_163257_1_1.png', './Crack500/validation\\\\mask\\\\20160407_163257_641_361.png', './Crack500/validation\\\\mask\\\\20160407_165001_1281_1081.png', './Crack500/validation\\\\mask\\\\20160407_165001_1281_361.png', './Crack500/validation\\\\mask\\\\20160407_165001_1281_721.png', './Crack500/validation\\\\mask\\\\20160407_165001_1921_361.png', './Crack500/validation\\\\mask\\\\20160407_165001_1921_721.png', './Crack500/validation\\\\mask\\\\20160407_165001_1_1081.png', './Crack500/validation\\\\mask\\\\20160407_165001_1_721.png', './Crack500/validation\\\\mask\\\\20160407_165001_641_1081.png', './Crack500/validation\\\\mask\\\\20160407_165001_641_361.png', './Crack500/validation\\\\mask\\\\20160407_165001_641_721.png', './Crack500/validation\\\\mask\\\\IMG_2931_1297_485.png', './Crack500/validation\\\\mask\\\\IMG_2931_1297_969.png', './Crack500/validation\\\\mask\\\\IMG_2931_1945_485.png', './Crack500/validation\\\\mask\\\\IMG_2931_1945_969.png', './Crack500/validation\\\\mask\\\\IMG_2931_1_485.png', './Crack500/validation\\\\mask\\\\IMG_2931_649_485.png', './Crack500/validation\\\\mask\\\\IMG_2931_649_969.png', './Crack500/validation\\\\mask\\\\IMG_2941_1297_485.png', './Crack500/validation\\\\mask\\\\IMG_2941_1297_969.png', './Crack500/validation\\\\mask\\\\IMG_2941_1945_485.png', './Crack500/validation\\\\mask\\\\IMG_2941_1_485.png', './Crack500/validation\\\\mask\\\\IMG_2941_1_969.png', './Crack500/validation\\\\mask\\\\IMG_2941_649_969.png', './Crack500/validation\\\\mask\\\\IMG_2942_1297_485.png', './Crack500/validation\\\\mask\\\\IMG_2942_1945_485.png', './Crack500/validation\\\\mask\\\\IMG_2942_1_485.png', './Crack500/validation\\\\mask\\\\IMG_2942_649_485.png']\n"
     ]
    }
   ],
   "source": [
    "print(mask_paths)"
   ]
  },
  {
   "cell_type": "code",
   "execution_count": 4,
   "metadata": {},
   "outputs": [
    {
     "name": "stdout",
     "output_type": "stream",
     "text": [
      "./validation\\mask\\20160316_143547_1_1.png\n"
     ]
    }
   ],
   "source": [
    "print(mask_paths[100])"
   ]
  },
  {
   "cell_type": "code",
   "execution_count": 6,
   "metadata": {},
   "outputs": [],
   "source": [
    "mask_files = []\n",
    "for path in mask_paths:\n",
    "    mask = cv2.imread(path,cv2.IMREAD_UNCHANGED)\n",
    "    mask = cv2.resize(mask, (256,256),interpolation = cv2.INTER_LINEAR)\n",
    "    mask_files.append(mask)\n",
    "\n",
    "\n",
    "# padding \n",
    "padded_mask = []\n",
    "for mask in mask_files:\n",
    "    pad_mask = np.pad(mask,((1,1),(1,1)),\"constant\")\n",
    "    padded_mask.append(pad_mask)"
   ]
  },
  {
   "cell_type": "code",
   "execution_count": 7,
   "metadata": {},
   "outputs": [
    {
     "name": "stdout",
     "output_type": "stream",
     "text": [
      "(258, 258)\n"
     ]
    }
   ],
   "source": [
    "print(padded_mask[0].shape)"
   ]
  },
  {
   "cell_type": "code",
   "execution_count": 8,
   "metadata": {},
   "outputs": [],
   "source": [
    "# Specify text file directory\n",
    "def generator_data(directory_text,directory_image,num_data,dims,interpolation):\n",
    "    \"\"\"\n",
    "    This function returns the file name of the input label and corresponding ground truth\n",
    "    Arguments:\n",
    "    directory - Provide the directory to read a file\n",
    "    \"\"\"\n",
    "    input_data = None\n",
    "    ground_truth = None\n",
    "    with open(directory_text,\"r\") as f:\n",
    "        data = f.readlines()\n",
    "    \n",
    "    random.shuffle(data)\n",
    "    data_list = []\n",
    "    i = 0\n",
    "    while True:\n",
    "        try:\n",
    "            input_data = data[i].split()[0]\n",
    "            ground_truth = data[i].split()[1]\n",
    "            data_list.append([input_data,ground_truth])\n",
    "            i = i + 1\n",
    "            if i == num_data:\n",
    "                data_array = image_data(directory_image,data_list,dims,interpolation)\n",
    "                yield data_array\n",
    "                data_list = []\n",
    "        except IndexError as e:\n",
    "            data_array = image_data(directory_image,data_list,dims,interpolation)\n",
    "            yield data_array\n",
    "            break\n"
   ]
  },
  {
   "cell_type": "code",
   "execution_count": 9,
   "metadata": {},
   "outputs": [],
   "source": [
    "def image_data(directory,data_list,dims,interpolation):\n",
    "    \"\"\"\n",
    "    This function obtains data_list from get_train_data_names and then \n",
    "    converts the image into a square image.\n",
    "    \n",
    "    Arguments:\n",
    "    data_list - list of data names and corresponding ground truth\n",
    "    dims - Resize image to user input size, required to be a tuple\n",
    "    \n",
    "    Return:\n",
    "    data_array - Returns the image as a numpy array\n",
    "    \"\"\"\n",
    "    \n",
    "    data_array = []\n",
    "    for i in range(len(data_list)):\n",
    "        x = cv2.imread(directory + data_list[i][0],cv2.IMREAD_GRAYSCALE)\n",
    "        y = cv2.imread(directory + data_list[i][1],cv2.IMREAD_UNCHANGED)\n",
    "        \n",
    "        x = cv2.resize(x,dims,interpolation = interpolation)/255\n",
    "        y = cv2.resize(y,dims,interpolation = interpolation)/255\n",
    "        \n",
    "        data_array.append([x,y])\n",
    "        \n",
    "    return data_array"
   ]
  },
  {
   "cell_type": "code",
   "execution_count": 10,
   "metadata": {},
   "outputs": [],
   "source": [
    "def get_data(gen):\n",
    "    #try:\n",
    "    data = next(gen)\n",
    "    for i in range(len(data)):\n",
    "        data[i][0] = np.pad(data[i][0],((1,1),(1,1)),\"constant\")\n",
    "        data[i][1] = np.pad(data[i][1],((1,1),(1,1)),\"constant\")\n",
    "    return data\n",
    "    #except:\n",
    "    #    return -1\n"
   ]
  },
  {
   "cell_type": "markdown",
   "metadata": {},
   "source": [
    "# Skeletonize binary images"
   ]
  },
  {
   "cell_type": "code",
   "execution_count": 11,
   "metadata": {},
   "outputs": [
    {
     "data": {
      "text/plain": [
       "<matplotlib.image.AxesImage at 0x27056e40730>"
      ]
     },
     "execution_count": 11,
     "metadata": {},
     "output_type": "execute_result"
    },
    {
     "data": {
      "image/png": "[encoded data removed]",
      "text/plain": [
       "<Figure size 1080x1080 with 3 Axes>"
      ]
     },
     "metadata": {
      "needs_background": "light"
     },
     "output_type": "display_data"
    }
   ],
   "source": [
    "index = 5\n",
    "fig, ax = plt.subplots(nrows = 1, ncols = 3,figsize = (15,15))\n",
    "ax[0].imshow(padded_mask[index])\n",
    "ax[1].imshow(feature.canny(mask_files[index]))\n",
    "ax[2].imshow(morphology.medial_axis(mask_files[index]))\n",
    "\n"
   ]
  },
  {
   "cell_type": "markdown",
   "metadata": {},
   "source": [
    "# Tangent of curve"
   ]
  },
  {
   "cell_type": "code",
   "execution_count": 12,
   "metadata": {},
   "outputs": [],
   "source": [
    "def get_skel_points(img,cropped = True):\n",
    "    \"\"\"\n",
    "    This function obtains positive cracks from the given image.\n",
    "\n",
    "    Arguments:\n",
    "    img - The input image\n",
    "    \n",
    "    Return:\n",
    "    x - x coordinates\n",
    "    y - y coordinates\n",
    "    \n",
    "    \"\"\"\n",
    "    \n",
    "    (y,x) = np.nonzero(img) # Returns a tuple of array ([y],[x])\n",
    "    \n",
    "    # True only if coordinate shifting, False if using global coordinates\n",
    "    if cropped:\n",
    "        # Coordinate shifting to have center at (0,0) and flip the y-axis\n",
    "        y = -1*(y - 1) # Flips the y axis\n",
    "        x = x - 1        \n",
    "    \n",
    "    return x,y"
   ]
  },
  {
   "cell_type": "code",
   "execution_count": 13,
   "metadata": {},
   "outputs": [],
   "source": [
    "def get_dydx(cropped_img,linspace = 51):\n",
    "    \"\"\"\n",
    "    This function gets a 3x3 cropped image to and approximates the \n",
    "    crack points as a polynomial. The x and y values are placed on\n",
    "    a grid as shown:\n",
    "    \n",
    "    [[(-1,1),(0,1),(1,1)],\n",
    "    [(-1,0),(0,0),(1,0)],\n",
    "    [(-1,-1),(0,-1),(1,-1)]]\n",
    "    \n",
    "    The point of interest is only at the gradient at point (0,0)\n",
    "    \n",
    "    Arguments:\n",
    "    x - x coordinates\n",
    "    y - y coordinates\n",
    "    space = space for linspace\n",
    "    \"\"\"\n",
    "    \n",
    "    # Check if there is only 1 pixel in crack, then return early\n",
    "    \n",
    "    if np.sum(np.squeeze(cropped_img.flatten())) == 1:\n",
    "        plt.figure()\n",
    "        plt.imshow(cropped_img,extent = [-3/2.,3/2., -3/2.,3/2.])\n",
    "        return 0, False\n",
    "    # Obtain the x and y value of cropped image\n",
    "    x,y = get_skel_points(cropped_img)\n",
    "    #print(x,y)\n",
    "    num_points = len(x)\n",
    "    vert = False   \n",
    "    # Checks if all values of y\n",
    "    x_check = [-1,0,1]\n",
    "    \n",
    "    # Check for possible vertical \n",
    "    for x_val in x_check:\n",
    "        occurences = np.count_nonzero(x == x_val)\n",
    "        if occurences >= 2 and num_points <= 3 :\n",
    "            #print(occurences)\n",
    "            vert = True\n",
    "            break          \n",
    "    \n",
    "    p_deg = (num_points - 1) if num_points > 1 else 1\n",
    "    linspace = (linspace + 1) if linspace % 2 == 0 else linspace\n",
    "    x_new = np.linspace(-1,1,num = linspace)\n",
    "    \n",
    "    \n",
    "    #print(x_new)\n",
    "    if vert == False:\n",
    "        plt.figure()\n",
    "        plt.imshow(cropped_img,extent = [-3/2.,3/2., -3/2.,3/2.])\n",
    "        weights = np.polyfit(x,y,p_deg)\n",
    "        fx = np.poly1d(weights)\n",
    "    else:\n",
    "        plt.figure()\n",
    "        plt.imshow(cropped_img,extent = [-3/2.,3/2., -3/2.,3/2.])\n",
    "        cropped_img = np.rot90(cropped_img) # Rotate the image anticlockwise 90 degrees\n",
    "        x,y = get_skel_points(cropped_img) # Update the x,y coordinates\n",
    "        weights = np.polyfit(x,y,p_deg)\n",
    "        fx = np.poly1d(weights)        \n",
    "    \n",
    "    y_new = fx(x_new)\n",
    "    x0_pos = np.where(x_new == 0)\n",
    "    #print(y_new)\n",
    "    dy = np.gradient(y_new,2/(linspace-1))\n",
    "    #print(dy)\n",
    "    #print(x0_pos)\n",
    "    dy0 = str(dy[x0_pos])[1:-1] # dy when x = 0 stored in string format\n",
    "    \n",
    "    dy = fractions.Fraction(dy0).limit_denominator()\n",
    "    \n",
    "    plt.figure()\n",
    "    plt.imshow(cropped_img,extent = [-3/2.,3/2., -3/2.,3/2.])\n",
    "    plt.plot(x,y,\"bo\")\n",
    "    plt.plot(x_new,fx(x_new))\n",
    "    plt.show()\n",
    "    return dy,vert"
   ]
  },
  {
   "cell_type": "code",
   "execution_count": 14,
   "metadata": {},
   "outputs": [],
   "source": [
    "def get_cropped(img,x,y):\n",
    "    \"\"\"\n",
    "    This function returns 3x3 cropped images at every \n",
    "    skeleton point\n",
    "    \n",
    "    Arguments:\n",
    "    img - the skeleton image\n",
    "    x - x global coordinate of the skeleton\n",
    "    y - y global coordinate of the skeleton\n",
    "    \"\"\"\n",
    "     \n",
    "    (row,column) = np.meshgrid(np.array([x-1,x,x+1]), np.array([y-1,y,y+1]))\n",
    "    row = row.astype('int')\n",
    "    column= column.astype('int')\n",
    "    \n",
    "    cropped_img = img[column,row]\n",
    "    \n",
    "    return cropped_img"
   ]
  },
  {
   "cell_type": "markdown",
   "metadata": {},
   "source": [
    "# Get end points and intersection points"
   ]
  },
  {
   "cell_type": "code",
   "execution_count": 15,
   "metadata": {},
   "outputs": [],
   "source": [
    "def get_imp_points(img):\n",
    "\n",
    "    end_points = []\n",
    "    inter_points = []\n",
    "    #img = np.pad(img,((1,1),(1,1)),\"constant\")\n",
    "    (rows,cols) = np.nonzero(img)\n",
    "    \n",
    "    for (r,c) in zip(rows,cols):\n",
    "\n",
    "        if np.sum(img[r-1:r+2,c-1:c+2]) == 2:\n",
    "            end_points.append((c,r))\n",
    "        elif np.sum(img[r-1:r+2,c-1:c+2]) > 3:\n",
    "            inter_points.append((c,r))\n",
    "     \n",
    "    #     for point1 in t_inter_points:\n",
    "    #         temp_x = [point1[0]]\n",
    "    #         temp_y = [point1[1]]\n",
    "    #         for point2 in t_inter_points:\n",
    "    #             if ((point1[0]-point2[0])**2 + (point1[1]-point2[1])**2 < 9**2) and (point1 != point2):\n",
    "    #                 temp_x.append(point2[0])\n",
    "    #                 temp_y.append(point2[1])\n",
    "\n",
    "    #         x_avg = int(math.floor(sum(temp_x)/len(temp_x)))\n",
    "    #         y_avg = int(math.floor(sum(temp_y)/len(temp_y)))\n",
    "\n",
    "    #         inter_points.append((x_avg,y_avg))  \n",
    "\n",
    "    #     #all_branch = get_branches(img)\n",
    "    #     end_points = list(set(end_points))\n",
    "    #     inter_points = list(set(inter_points))\n",
    "    #     #num_branch = get_num_branch(all_branch,inter_points)\n",
    "    \n",
    "    return end_points, inter_points"
   ]
  },
  {
   "cell_type": "code",
   "execution_count": 16,
   "metadata": {},
   "outputs": [],
   "source": [
    "def get_branches(img):\n",
    "    \"\"\"\n",
    "    This algorithm gets the branches of the skeleton image from end points to\n",
    "    intersection point. The determined branches are used for DSE pruning method.\n",
    "    \n",
    "    Branches from one intersection point to another intersection point is not considered\n",
    "    because it is definitely important to the reconstruction of the binary image.\n",
    "    \n",
    "    i.e. Only end point to intersection point is considered. \n",
    "    \n",
    "    Arguments:\n",
    "    img - Skeletonized image\n",
    "    \n",
    "    Return\n",
    "    all_branches - A list of lists of coordinates (x,y) of the branches\n",
    "    \"\"\"\n",
    "   \n",
    "    E,_ = get_imp_points(img)  \n",
    "    all_branches = []\n",
    "    \n",
    "    #print(f\"The end points: {E}\")\n",
    "    for e in E:\n",
    "        branch = []\n",
    "        r_g, c_g = e[1], e[0]\n",
    "        branch.append((c_g,r_g))\n",
    "\n",
    "        while np.sum(img[r_g-1:r_g+2,c_g-1:c_g+2]) <= 3:\n",
    "            (r_t,c_t) = np.nonzero(img[r_g-1:r_g+2,c_g-1:c_g+2])\n",
    "            r_t = r_t-1+r_g\n",
    "            c_t = c_t-1+c_g\n",
    "            for point in zip(c_t,r_t):\n",
    "                if point not in branch:\n",
    "                    branch.append(point)\n",
    "\n",
    "            r_g = branch[-1][1]\n",
    "            c_g = branch[-1][0]\n",
    "            if (c_g,r_g) in E:\n",
    "                branch = []\n",
    "                break\n",
    "        if len(branch) > 0:\n",
    "            all_branches.append(branch)\n",
    "    \n",
    "    return all_branches      "
   ]
  },
  {
   "cell_type": "code",
   "execution_count": 17,
   "metadata": {},
   "outputs": [],
   "source": [
    "def get_avg_curve_len(img):\n",
    "    \"\"\"\n",
    "    This algorithm gets the averaged curve length\n",
    "    \n",
    "    Branches from one intersection point to another intersection point is not considered\n",
    "    because it is definitely important to the reconstruction of the binary image.\n",
    "    \n",
    "    i.e. Only end point to intersection point is considered. \n",
    "    \n",
    "    Arguments:\n",
    "    img - Skeletonized image\n",
    "    \n",
    "    Return\n",
    "    all_branches - A list of lists of coordinates (x,y) of the branches\n",
    "    \"\"\"\n",
    "       \n",
    "    all_branch_len = []\n",
    "    s = img.copy()*1\n",
    "    i = 0\n",
    "    \n",
    "    while True:\n",
    "\n",
    "        all_branch = get_branches(s)\n",
    "        for branch in all_branch:\n",
    "            all_branch_len.append(len(branch))\n",
    "            r = [i[1] for i in branch]\n",
    "            c = [i[0] for i in branch]\n",
    "\n",
    "            s[r,c] = 0\n",
    "        if i != 0:\n",
    "            all_branch_len.append(np.sum(s))\n",
    "                \n",
    "        if len(all_branch) == 0:\n",
    "            break\n",
    "        \n",
    "        i += 1\n",
    "    try:\n",
    "        avg_len = np.mean(all_branch_len)\n",
    "    except:\n",
    "        return 0\n",
    "    return avg_len"
   ]
  },
  {
   "cell_type": "code",
   "execution_count": 18,
   "metadata": {},
   "outputs": [
    {
     "name": "stdout",
     "output_type": "stream",
     "text": [
      "18.5\n",
      "Wall time: 90.8 ms\n"
     ]
    }
   ],
   "source": [
    "%%time\n",
    "test_img = padded_mask[0]\n",
    "skeleton = morphology.medial_axis(test_img)\n",
    "t = get_avg_curve_len(skeleton)\n",
    "print(t)"
   ]
  },
  {
   "cell_type": "code",
   "execution_count": 19,
   "metadata": {},
   "outputs": [],
   "source": [
    "def get_num_branch(all_branches,inter_points):\n",
    "    \n",
    "    list_num_branch = []\n",
    "    for point in inter_points:\n",
    "        num_branch = 0\n",
    "        for branch in all_branches:\n",
    "            if point in branch:\n",
    "                all_branches.remove(branch)\n",
    "                num_branch += 1\n",
    "        list_num_branch.append(num_branch)\n",
    "        \n",
    "    return list_num_branch\n",
    "                "
   ]
  },
  {
   "cell_type": "markdown",
   "metadata": {},
   "source": [
    "# Discrete Skeletonization Evolution Algorithm"
   ]
  },
  {
   "cell_type": "code",
   "execution_count": 20,
   "metadata": {},
   "outputs": [],
   "source": [
    "def reconstruct(skel_img,dist_tr):\n",
    "    \"\"\"\n",
    "    Attempt to reconstruct the binary image from the skeleton\n",
    "    \n",
    "    Arguments:\n",
    "    img - Skeleton image using thinning algorithm\n",
    "    dist_tr - Distance transform matrix\n",
    "    \n",
    "    Return:\n",
    "    bn_img - Binary image\n",
    "    \"\"\"\n",
    "    row, col = np.nonzero(skel_img)\n",
    "    bn_img = skel_img.copy()*1\n",
    "    for (r,c) in zip(row,col):\n",
    "        radius = math.ceil(dist_tr[r,c]-1)\n",
    "        if radius >= 1:\n",
    "            stel = morphology.disk(radius)\n",
    "            bn_img[r-radius:r+radius+1,c-radius:c+radius+1] += stel\n",
    "    \n",
    "    return bn_img >= 1"
   ]
  },
  {
   "cell_type": "code",
   "execution_count": 22,
   "metadata": {},
   "outputs": [],
   "source": [
    "def DSE_v2(img,threshold):\n",
    "    \"\"\"\n",
    "    Discrete Skeletonization Evolution algorithm\n",
    "    Prunes spurious branches obtained from medial axis transform.\n",
    "    \n",
    "    Arguments:\n",
    "    img - Binary image\n",
    "    \n",
    "    Returns:\n",
    "    pruned_img - Pruned binary image using DSE\n",
    "    \"\"\"\n",
    "\n",
    "    _,dist = morphology.medial_axis(img,return_distance = True) \n",
    "    skel_img = morphology.thin(img)\n",
    "    skel_img = morphology.closing(skel_img)\n",
    "    all_branches = get_branches(skel_img)\n",
    "    iou = lambda ori_img,img2: np.sum(ori_img*img2)/np.sum((ori_img+img2)>=1)\n",
    "\n",
    "    while True:\n",
    "        \n",
    "        iou_scores = []\n",
    "        \n",
    "        for branch in all_branches:\n",
    "            skel_removed = skel_img.copy() # Initialization\n",
    "            r = [i[1] for i in branch]\n",
    "            c = [i[0] for i in branch]\n",
    "            skel_removed[r,c] = 0\n",
    "            bn_removed = reconstruct(skel_removed,dist)\n",
    "            iou_scores.append(iou(img,bn_removed))\n",
    "            \n",
    "        if len(iou_scores)>0:\n",
    "            max_score = max(iou_scores)\n",
    "            if max_score > threshold:\n",
    "                idx = iou_scores.index(max_score)\n",
    "\n",
    "                for points in all_branches[idx]:\n",
    "                    r,c = points[1], points[0]\n",
    "                    skel_img[r,c] = 0\n",
    "                del all_branches[idx]\n",
    "\n",
    "            else:\n",
    "                return skel_img, reconstruct(skel_img,dist)\n",
    "        else:\n",
    "            return skel_img, reconstruct(skel_img,dist)\n",
    "\n",
    "  \n",
    "\n"
   ]
  },
  {
   "cell_type": "code",
   "execution_count": 27,
   "metadata": {},
   "outputs": [],
   "source": [
    "def DSE_v3(img,beta, filter_b = True):\n",
    "    \"\"\"\n",
    "    Discrete Skeletonization Evolution algorithm which finds the trade \n",
    "    off between skeleton simplicity and reconstruction error.\n",
    "    \n",
    "    Arguments:\n",
    "    img - Binary image\n",
    "    \n",
    "    Returns:\n",
    "    pruned_img - Pruned binary image using DSE\n",
    "    \"\"\"    \n",
    "    \n",
    "    M,dist = morphology.medial_axis(img,return_distance = True)\n",
    "    #M = morphology.skeletonize(img)\n",
    "    S_all = [M]\n",
    "    norm_dist = lambda s: np.log(np.sum(s)+1)\n",
    "    norm_area = lambda s,d: (np.sum(d)-np.sum(reconstruct(s,dist)))/(np.sum(d))    \n",
    "    avg_width = 0\n",
    "    r,c = np.nonzero(M)\n",
    "    all_branches = get_branches(M)\n",
    "    \n",
    "    if filter_b:\n",
    "        avg_curve_len = get_avg_curve_len(M)\n",
    "        all_branches = [branch for branch in all_branches if len(branch) <= np.ceil(avg_curve_len)]\n",
    "\n",
    "    M_len = norm_dist(get_avg_curve_len(M))\n",
    "    avg_branch_len = np.mean([len(branch) for branch in all_branches]) # Average length of all branches\n",
    "    scores = [norm_area(M,reconstruct(M,dist))+norm_dist(M)]\n",
    "    \n",
    "    while len(all_branches) > 2:\n",
    "        weights = []\n",
    "        for branch in all_branches:\n",
    "            \"\"\"\n",
    "            Iteratively removes each branch and then assigns the weight for each branch\n",
    "            \"\"\"\n",
    "            S = M.copy()                  # S_(i) \n",
    "            r = [i[1] for i in branch]\n",
    "            c = [i[0] for i in branch]\n",
    "\n",
    "            S[r,c] = 0                    # Initialize the weights\n",
    "\n",
    "            AR = norm_area(S,img)\n",
    "            LR = norm_dist(S) # get_avg_curve_len(S)\n",
    "            weights.append(AR + LR)\n",
    "\n",
    "        min_idx = np.argmin(weights)\n",
    "        E = all_branches[min_idx]         # The minimum branch to be removed \n",
    "        r = [i[1] for i in E]             # Get the rows of minimum weight branch\n",
    "        c = [i[0] for i in E]             # Get the columns of minimum weight branch\n",
    "        M[r,c] = 0                        # Remove the minimum branch from the medial axis, S_(i+1)\n",
    "        S_all.append(M)\n",
    "        del all_branches[min_idx]    \n",
    "    \n",
    "    if len(S_all) >= 2:\n",
    "        print(f\"Length of S_all: {len(S_all)}\")\n",
    "        for S in S_all:\n",
    "            AR = norm_area(img,reconstruct(S,dist))\n",
    "            LR = norm_dist(get_avg_curve_len(S))\n",
    "            scores.append(AR + LR)\n",
    "            S_best = S_all[np.argmin(scores)]\n",
    "\n",
    "            return S_best\n",
    "    \n",
    "    else:\n",
    "        print(f\"Defaulting to DSE_v2\")\n",
    "        return DSE_v2(img,0.9)\n",
    "\n",
    "\n",
    "\n",
    "                "
   ]
  },
  {
   "cell_type": "code",
   "execution_count": 31,
   "metadata": {
    "scrolled": false
   },
   "outputs": [
    {
     "name": "stdout",
     "output_type": "stream",
     "text": [
      "Length of S_all: 11\n",
      "Wall time: 1.53 s\n"
     ]
    },
    {
     "data": {
      "text/plain": [
       "(-0.5, 257.5, 257.5, -0.5)"
      ]
     },
     "execution_count": 31,
     "metadata": {},
     "output_type": "execute_result"
    },
    {
     "data": {
      "image/png": "[encoded data removed]",
      "text/plain": [
       "<Figure size 3600x3600 with 4 Axes>"
      ]
     },
     "metadata": {
      "needs_background": "light"
     },
     "output_type": "display_data"
    }
   ],
   "source": [
    "%%time\n",
    "test_img = padded_mask[3]\n",
    "skeleton_medial,test = morphology.medial_axis(test_img,return_distance=True)\n",
    "skeleton_thin = morphology.thin(test_img)\n",
    "#skeleton = morphology.closing(skeleton)\n",
    "beta = 20\n",
    "threshold = 0.9 \n",
    "\n",
    "dse_v3 = DSE_v3(test_img,beta)\n",
    "# thin_img_wf,_ = DSE_v3(test_img,beta)\n",
    "fig,ax = plt.subplots(nrows = 1, ncols = 4,figsize = (50,50), squeeze = True)\n",
    "ax[0].imshow(test_img,cmap=\"Greys_r\")\n",
    "ax[0].set_title(f\"Binary Image\")\n",
    "\n",
    "ax[1].imshow(skeleton_medial,cmap=\"Greys_r\")\n",
    "ax[1].set_title(f\"Medial Axis Transform\")\n",
    "ax[1].axis(\"off\")\n",
    "\n",
    "ax[2].imshow(skeleton_thin,cmap=\"Greys_r\")\n",
    "ax[2].set_title(f\"Thin Image\")\n",
    "ax[2].axis(\"off\")\n",
    "\n",
    "ax[3].imshow(dse_v3,cmap=\"Greys_r\")\n",
    "ax[3].set_title(f\"DSE Image\")\n",
    "ax[3].axis(\"off\")\n"
   ]
  },
  {
   "cell_type": "code",
   "execution_count": 29,
   "metadata": {},
   "outputs": [
    {
     "name": "stdout",
     "output_type": "stream",
     "text": [
      "Length of S_all: 33\n",
      "Wall time: 4min 44s\n"
     ]
    },
    {
     "data": {
      "text/plain": [
       "(-0.5, 257.5, 257.5, -0.5)"
      ]
     },
     "execution_count": 29,
     "metadata": {},
     "output_type": "execute_result"
    },
    {
     "data": {
      "image/png": "[encoded data removed]",
      "text/plain": [
       "<Figure size 3600x3600 with 4 Axes>"
      ]
     },
     "metadata": {
      "needs_background": "light"
     },
     "output_type": "display_data"
    }
   ],
   "source": [
    "%%time\n",
    "test_img = padded_mask[306]\n",
    "skeleton_medial,test = morphology.medial_axis(test_img,return_distance=True)\n",
    "skeleton_thin = morphology.thin(test_img)\n",
    "#skeleton = morphology.closing(skeleton)\n",
    "beta = 20\n",
    "threshold = 0.9 \n",
    "\n",
    "dse_v3 = DSE_v3(test_img,beta)\n",
    "# thin_img_wf,_ = DSE_v3(test_img,beta)\n",
    "fig,ax = plt.subplots(nrows = 1, ncols = 4,figsize = (50,50), squeeze = True)\n",
    "ax[0].imshow(test_img,cmap=\"Greys_r\")\n",
    "ax[0].set_title(f\"Binary Image\")\n",
    "\n",
    "ax[1].imshow(skeleton_medial,cmap=\"Greys_r\")\n",
    "ax[1].set_title(f\"Medial Axis Transform\")\n",
    "ax[1].axis(\"off\")\n",
    "\n",
    "ax[2].imshow(skeleton_thin,cmap=\"Greys_r\")\n",
    "ax[2].set_title(f\"Thin Image\")\n",
    "ax[2].axis(\"off\")\n",
    "\n",
    "ax[3].imshow(dse_v3,cmap=\"Greys_r\")\n",
    "ax[3].set_title(f\"DSE Image\")\n",
    "ax[3].axis(\"off\")"
   ]
  },
  {
   "cell_type": "markdown",
   "metadata": {},
   "source": [
    "# Remove intersection area"
   ]
  },
  {
   "cell_type": "code",
   "execution_count": 45,
   "metadata": {},
   "outputs": [],
   "source": [
    "def remove_intersection(binary_img,skel_img,dist_trans):\n",
    "    \"\"\"\n",
    "    This function removes the branches from the intersection.\n",
    "    \n",
    "    Argument:\n",
    "    binary_img - Binary image\n",
    "    skel_img - Pruned skeleton image\n",
    "    dist_trans - The distance transform matrix of the skeleton image\n",
    "    \n",
    "    Return:\n",
    "    output_img - Individiual branches of the image    \n",
    "    \"\"\"\n",
    "    all_branches = get_branches(skel_img)\n",
    "    img = skel_img.copy()*1\n",
    "    for branches in all_branches:\n",
    "        c,r = branches[-1]\n",
    "        radius = math.floor(dist_trans[r,c])\n",
    "        if radius > 1:\n",
    "            stel = morphology.disk(radius)\n",
    "            img[r-radius:r+radius+1,c-radius:c+radius+1] -= stel\n",
    "    \n",
    "    return img == 1"
   ]
  },
  {
   "cell_type": "code",
   "execution_count": 46,
   "metadata": {},
   "outputs": [
    {
     "name": "stdout",
     "output_type": "stream",
     "text": [
      "Length of S_all: 19\n",
      "Wall time: 33.7 s\n"
     ]
    },
    {
     "data": {
      "text/plain": [
       "Text(0.5, 1.0, 'Binary image + pruned skeleton')"
      ]
     },
     "execution_count": 46,
     "metadata": {},
     "output_type": "execute_result"
    },
    {
     "data": {
      "image/png": "[encoded data removed]",
      "text/plain": [
       "<Figure size 1440x1440 with 3 Axes>"
      ]
     },
     "metadata": {
      "needs_background": "light"
     },
     "output_type": "display_data"
    }
   ],
   "source": [
    "%%time\n",
    "test_img = x_train_data[6][1]\n",
    "skeleton,dist_tr = morphology.medial_axis(test_img,return_distance=True)\n",
    "pruned_skel,_ = DSE_v3(test_img,20)\n",
    "out = remove_intersection(test_img,pruned_skel,dist_tr)\n",
    "fig, ax = plt.subplots(nrows = 1, ncols = 3,figsize = (20,20),squeeze = True)\n",
    "plt.subplots_adjust(hspace=0, wspace=0.1)\n",
    "\n",
    "\n",
    "ax[0].imshow(test_img)\n",
    "ax[0].set_title(\"Binary image\")\n",
    "si_img1 = test_img.copy()*1\n",
    "si_img1 += out*1 + 10\n",
    "ax[1].imshow(si_img1)\n",
    "ax[1].set_title(\"Binary image + removed intersection\")\n",
    "si_img2 = test_img.copy()*1\n",
    "si_img2 += pruned_skel + 10\n",
    "ax[2].imshow(si_img2)\n",
    "ax[2].set_title(\"Binary image + pruned skeleton\")\n"
   ]
  },
  {
   "cell_type": "markdown",
   "metadata": {},
   "source": [
    "# Zooming into a region\n",
    "Get the distance transform matrix of a skeleton point. Add a constant to the value i.e. 4. If final value is an even number then make it odd."
   ]
  },
  {
   "cell_type": "code",
   "execution_count": 47,
   "metadata": {},
   "outputs": [
    {
     "name": "stdout",
     "output_type": "stream",
     "text": [
      "1.0\n",
      "Length of S_all: 19\n",
      "[(64, 6), (65, 6), (66, 6), (67, 6), (68, 6), (69, 6), (70, 6), (3, 7), (4, 7), (58, 7), (59, 7), (60, 7), (61, 7), (62, 7), (63, 7), (71, 7), (72, 7), (73, 7), (74, 7), (75, 7), (76, 7), (77, 7), (5, 8), (53, 8), (54, 8), (55, 8), (56, 8), (57, 8), (78, 8), (79, 8), (80, 8), (81, 8), (82, 8), (83, 8), (84, 8), (85, 8), (5, 9), (47, 9), (48, 9), (49, 9), (50, 9), (51, 9), (52, 9), (86, 9), (87, 9), (6, 10), (35, 10), (36, 10), (37, 10), (38, 10), (39, 10), (40, 10), (41, 10), (42, 10), (43, 10), (44, 10), (45, 10), (46, 10), (88, 10), (89, 10), (90, 10), (91, 10), (92, 10), (93, 10), (7, 11), (31, 11), (32, 11), (33, 11), (34, 11), (94, 11), (95, 11), (8, 12), (9, 12), (16, 12), (17, 12), (18, 12), (19, 12), (20, 12), (21, 12), (22, 12), (23, 12), (24, 12), (25, 12), (26, 12), (27, 12), (28, 12), (29, 12), (30, 12), (96, 12), (97, 12), (10, 13), (11, 13), (12, 13), (13, 13), (14, 13), (15, 13), (98, 13), (99, 13), (100, 13), (101, 14), (102, 14), (103, 14), (104, 15), (105, 16), (106, 16), (107, 16), (108, 16), (109, 17), (110, 17), (111, 18), (112, 18), (113, 18), (114, 19), (115, 19), (116, 19), (117, 19), (118, 19), (119, 19), (120, 20), (121, 20), (122, 20), (123, 20), (124, 20), (125, 21), (126, 22), (127, 22), (128, 22), (129, 22), (130, 23), (131, 23), (132, 23), (133, 23), (134, 23), (135, 24), (136, 25), (137, 25), (138, 26), (139, 26), (153, 37), (152, 38), (151, 39), (150, 40), (147, 41), (148, 41), (149, 41), (144, 42), (145, 42), (146, 42), (142, 43), (143, 43), (140, 44), (141, 44), (139, 45), (136, 46), (137, 46), (138, 46), (132, 47), (133, 47), (134, 47), (135, 47), (32, 48), (33, 48), (130, 48), (131, 48), (25, 49), (26, 49), (27, 49), (28, 49), (29, 49), (30, 49), (31, 49), (34, 49), (35, 49), (36, 49), (37, 49), (38, 49), (126, 49), (127, 49), (128, 49), (129, 49), (20, 50), (21, 50), (22, 50), (23, 50), (24, 50), (39, 50), (40, 50), (93, 50), (94, 50), (95, 50), (96, 50), (97, 50), (101, 50), (102, 50), (103, 50), (104, 50), (105, 50), (106, 50), (107, 50), (110, 50), (111, 50), (116, 50), (117, 50), (118, 50), (119, 50), (120, 50), (121, 50), (122, 50), (123, 50), (124, 50), (125, 50), (16, 51), (17, 51), (18, 51), (19, 51), (41, 51), (42, 51), (66, 51), (67, 51), (91, 51), (92, 51), (98, 51), (99, 51), (100, 51), (108, 51), (109, 51), (112, 51), (113, 51), (114, 51), (115, 51), (13, 52), (14, 52), (15, 52), (43, 52), (89, 52), (90, 52), (10, 53), (11, 53), (12, 53), (44, 53), (45, 53), (88, 53), (46, 54), (85, 54), (86, 54), (87, 54), (47, 55), (83, 55), (84, 55), (48, 56), (49, 56), (50, 56), (51, 56), (52, 56), (82, 56), (59, 58), (60, 58), (61, 58), (62, 58), (63, 59), (64, 59), (51, 63), (52, 63)]\n"
     ]
    }
   ],
   "source": [
    "test_img = x_train_data[6][1]\n",
    "skeleton,dist_tr = morphology.medial_axis(test_img,return_distance=True)\n",
    "print(dist_tr[23,112])\n",
    "pruned_skel,_ = DSE_v3(test_img,20)\n",
    "out = remove_intersection(test_img,pruned_skel,dist_tr)\n",
    "b_img = feature.canny(test_img)\n",
    "out = remove_intersection(test_img,pruned_skel,dist_tr)\n",
    "c,r = np.nonzero(out)\n",
    "print(list(zip(r,c)))\n"
   ]
  },
  {
   "cell_type": "code",
   "execution_count": 48,
   "metadata": {},
   "outputs": [
    {
     "ename": "NameError",
     "evalue": "name 'get_region' is not defined",
     "output_type": "error",
     "traceback": [
      "\u001b[1;31m---------------------------------------------------------------------------\u001b[0m",
      "\u001b[1;31mNameError\u001b[0m                                 Traceback (most recent call last)",
      "\u001b[1;32m<ipython-input-48-18e4cceccf00>\u001b[0m in \u001b[0;36m<module>\u001b[1;34m\u001b[0m\n\u001b[0;32m      1\u001b[0m \u001b[0mcoordinate\u001b[0m \u001b[1;33m=\u001b[0m \u001b[1;33m(\u001b[0m\u001b[1;36m79\u001b[0m\u001b[1;33m,\u001b[0m\u001b[1;36m30\u001b[0m\u001b[1;33m)\u001b[0m\u001b[1;33m\u001b[0m\u001b[1;33m\u001b[0m\u001b[0m\n\u001b[1;32m----> 2\u001b[1;33m \u001b[0msliced\u001b[0m \u001b[1;33m=\u001b[0m \u001b[0mget_region\u001b[0m\u001b[1;33m(\u001b[0m\u001b[0mout\u001b[0m\u001b[1;33m,\u001b[0m\u001b[0mcoordinate\u001b[0m\u001b[1;33m,\u001b[0m\u001b[0mdist_tr\u001b[0m\u001b[1;33m)\u001b[0m\u001b[1;33m\u001b[0m\u001b[1;33m\u001b[0m\u001b[0m\n\u001b[0m\u001b[0;32m      3\u001b[0m \u001b[0msliced2\u001b[0m \u001b[1;33m=\u001b[0m \u001b[0mget_region\u001b[0m\u001b[1;33m(\u001b[0m\u001b[0mb_img\u001b[0m\u001b[1;33m,\u001b[0m\u001b[0mcoordinate\u001b[0m\u001b[1;33m,\u001b[0m\u001b[0mdist_tr\u001b[0m\u001b[1;33m)\u001b[0m\u001b[1;33m\u001b[0m\u001b[1;33m\u001b[0m\u001b[0m\n\u001b[0;32m      4\u001b[0m \u001b[0mfig\u001b[0m\u001b[1;33m,\u001b[0m \u001b[0max\u001b[0m \u001b[1;33m=\u001b[0m \u001b[0mplt\u001b[0m\u001b[1;33m.\u001b[0m\u001b[0msubplots\u001b[0m\u001b[1;33m(\u001b[0m\u001b[0mnrows\u001b[0m \u001b[1;33m=\u001b[0m \u001b[1;36m1\u001b[0m\u001b[1;33m,\u001b[0m \u001b[0mncols\u001b[0m \u001b[1;33m=\u001b[0m \u001b[1;36m2\u001b[0m\u001b[1;33m)\u001b[0m\u001b[1;33m\u001b[0m\u001b[1;33m\u001b[0m\u001b[0m\n\u001b[0;32m      5\u001b[0m \u001b[0max\u001b[0m\u001b[1;33m[\u001b[0m\u001b[1;36m0\u001b[0m\u001b[1;33m]\u001b[0m\u001b[1;33m.\u001b[0m\u001b[0mimshow\u001b[0m\u001b[1;33m(\u001b[0m\u001b[0msliced\u001b[0m\u001b[1;33m)\u001b[0m\u001b[1;33m\u001b[0m\u001b[1;33m\u001b[0m\u001b[0m\n",
      "\u001b[1;31mNameError\u001b[0m: name 'get_region' is not defined"
     ]
    }
   ],
   "source": [
    "coordinate = (79,30)\n",
    "sliced = get_region(out,coordinate,dist_tr)\n",
    "sliced2 = get_region(b_img,coordinate,dist_tr)\n",
    "fig, ax = plt.subplots(nrows = 1, ncols = 2)\n",
    "ax[0].imshow(sliced)\n",
    "ax[1].imshow(sliced2)\n",
    "print(\"------ \")\n",
    "print(sliced)"
   ]
  },
  {
   "cell_type": "code",
   "execution_count": 90,
   "metadata": {},
   "outputs": [],
   "source": [
    "def get_region(img,coordinate,dist_trans):\n",
    "    \"\"\"\n",
    "    This function gets a small region of the skeleton + boundaries based on the\n",
    "    distance transform matrix.\n",
    "    \n",
    "    Arguments:\n",
    "    img - Image of skeleton/boundary\n",
    "    coordinate - (x,y) coordinate\n",
    "    dist_trans - Distance transform (DT) matrix\n",
    "    \n",
    "    Return:\n",
    "    output_img - A small region of the image based on the DT matrix\n",
    "    \"\"\"\n",
    "    \n",
    "    sb_img = img.copy()*1\n",
    "    r = coordinate[1]\n",
    "    c = coordinate[0]\n",
    "    radius = int(np.ceil(dist_trans[r,c])) + 2\n",
    "    if radius%2 == 0:\n",
    "        radius += 1\n",
    "    print(radius)\n",
    "    return sb_img[r-radius:r+radius+1,c-radius:c+radius+1]\n"
   ]
  },
  {
   "cell_type": "code",
   "execution_count": null,
   "metadata": {},
   "outputs": [],
   "source": []
  }
 ],
 "metadata": {
  "kernelspec": {
   "display_name": "Python 3",
   "language": "python",
   "name": "python3"
  },
  "language_info": {
   "codemirror_mode": {
    "name": "ipython",
    "version": 3
   },
   "file_extension": ".py",
   "mimetype": "text/x-python",
   "name": "python",
   "nbconvert_exporter": "python",
   "pygments_lexer": "ipython3",
   "version": "3.8.5"
  }
 },
 "nbformat": 4,
 "nbformat_minor": 4
}
